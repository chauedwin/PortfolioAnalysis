{
 "cells": [
  {
   "cell_type": "markdown",
   "metadata": {},
   "source": [
    "# Portfolio Analysis with Statistics"
   ]
  },
  {
   "cell_type": "markdown",
   "metadata": {},
   "source": [
    "To access stock data, we will use the [yfinance library](https://github.com/ranaroussi/yfinance). We first download the historical monthly stock prices for the chosen stocks/tickers(slightly modifying the code in the library tutorial). The data comes in the form of a pandas dataframe with multi-level headers, so we also unstack the levels for simpler access."
   ]
  },
  {
   "cell_type": "code",
   "execution_count": 265,
   "metadata": {},
   "outputs": [
    {
     "name": "stdout",
     "output_type": "stream",
     "text": [
      "[*********************100%***********************]  3 of 3 completed\n"
     ]
    }
   ],
   "source": [
    "import yfinance as yf\n",
    "import numpy as np\n",
    "import scipy.stats as stats\n",
    "import pandas as pd\n",
    "ticks = [\"AAPL\", \"MSFT\", \"LABU\"]\n",
    "data = yf.download(tickers = ticks, interval = \"1mo\", group_by = 'ticker', auto_adjust = True, threads = True)"
   ]
  },
  {
   "cell_type": "code",
   "execution_count": 276,
   "metadata": {},
   "outputs": [
    {
     "name": "stdout",
     "output_type": "stream",
     "text": [
      "[*********************100%***********************]  1 of 1 completed\n"
     ]
    }
   ],
   "source": [
    "sp500_raw = yf.download(tickers = \"^GSPC\", interval = \"1mo\", group_by = 'ticker', auto_adjust = True, threads = True)"
   ]
  },
  {
   "cell_type": "code",
   "execution_count": 274,
   "metadata": {},
   "outputs": [
    {
     "data": {
      "text/html": [
       "<div>\n",
       "<style scoped>\n",
       "    .dataframe tbody tr th:only-of-type {\n",
       "        vertical-align: middle;\n",
       "    }\n",
       "\n",
       "    .dataframe tbody tr th {\n",
       "        vertical-align: top;\n",
       "    }\n",
       "\n",
       "    .dataframe thead th {\n",
       "        text-align: right;\n",
       "    }\n",
       "</style>\n",
       "<table border=\"1\" class=\"dataframe\">\n",
       "  <thead>\n",
       "    <tr style=\"text-align: right;\">\n",
       "      <th></th>\n",
       "      <th>Ticker</th>\n",
       "      <th>Close</th>\n",
       "      <th>High</th>\n",
       "      <th>Low</th>\n",
       "      <th>Open</th>\n",
       "      <th>Volume</th>\n",
       "    </tr>\n",
       "    <tr>\n",
       "      <th>Date</th>\n",
       "      <th></th>\n",
       "      <th></th>\n",
       "      <th></th>\n",
       "      <th></th>\n",
       "      <th></th>\n",
       "      <th></th>\n",
       "    </tr>\n",
       "  </thead>\n",
       "  <tbody>\n",
       "    <tr>\n",
       "      <th>2021-04-01</th>\n",
       "      <td>MSFT</td>\n",
       "      <td>251.599030</td>\n",
       "      <td>262.583675</td>\n",
       "      <td>237.501592</td>\n",
       "      <td>237.920623</td>\n",
       "      <td>5.686616e+08</td>\n",
       "    </tr>\n",
       "    <tr>\n",
       "      <th>2021-05-01</th>\n",
       "      <td>AAPL</td>\n",
       "      <td>124.398697</td>\n",
       "      <td>133.842662</td>\n",
       "      <td>122.042698</td>\n",
       "      <td>131.816090</td>\n",
       "      <td>1.711935e+09</td>\n",
       "    </tr>\n",
       "    <tr>\n",
       "      <th>2021-05-01</th>\n",
       "      <td>LABU</td>\n",
       "      <td>63.000000</td>\n",
       "      <td>81.250000</td>\n",
       "      <td>50.000000</td>\n",
       "      <td>80.150002</td>\n",
       "      <td>7.112210e+07</td>\n",
       "    </tr>\n",
       "    <tr>\n",
       "      <th>2021-05-01</th>\n",
       "      <td>MSFT</td>\n",
       "      <td>249.104782</td>\n",
       "      <td>253.764037</td>\n",
       "      <td>237.521544</td>\n",
       "      <td>252.816213</td>\n",
       "      <td>4.950849e+08</td>\n",
       "    </tr>\n",
       "    <tr>\n",
       "      <th>2021-06-01</th>\n",
       "      <td>AAPL</td>\n",
       "      <td>133.110001</td>\n",
       "      <td>134.639999</td>\n",
       "      <td>123.129997</td>\n",
       "      <td>125.080002</td>\n",
       "      <td>1.416442e+09</td>\n",
       "    </tr>\n",
       "    <tr>\n",
       "      <th>2021-06-01</th>\n",
       "      <td>LABU</td>\n",
       "      <td>78.839996</td>\n",
       "      <td>79.139999</td>\n",
       "      <td>58.630001</td>\n",
       "      <td>64.089996</td>\n",
       "      <td>5.124090e+07</td>\n",
       "    </tr>\n",
       "    <tr>\n",
       "      <th>2021-06-01</th>\n",
       "      <td>MSFT</td>\n",
       "      <td>265.019989</td>\n",
       "      <td>267.850006</td>\n",
       "      <td>243.000000</td>\n",
       "      <td>251.229996</td>\n",
       "      <td>4.472694e+08</td>\n",
       "    </tr>\n",
       "    <tr>\n",
       "      <th>2021-06-25</th>\n",
       "      <td>AAPL</td>\n",
       "      <td>133.110001</td>\n",
       "      <td>133.889999</td>\n",
       "      <td>132.809998</td>\n",
       "      <td>133.460007</td>\n",
       "      <td>7.078375e+07</td>\n",
       "    </tr>\n",
       "    <tr>\n",
       "      <th>2021-06-25</th>\n",
       "      <td>LABU</td>\n",
       "      <td>78.839996</td>\n",
       "      <td>79.139999</td>\n",
       "      <td>75.442902</td>\n",
       "      <td>77.000000</td>\n",
       "      <td>1.961534e+06</td>\n",
       "    </tr>\n",
       "    <tr>\n",
       "      <th>2021-06-25</th>\n",
       "      <td>MSFT</td>\n",
       "      <td>265.019989</td>\n",
       "      <td>267.250000</td>\n",
       "      <td>264.760010</td>\n",
       "      <td>266.230011</td>\n",
       "      <td>2.561111e+07</td>\n",
       "    </tr>\n",
       "  </tbody>\n",
       "</table>\n",
       "</div>"
      ],
      "text/plain": [
       "           Ticker       Close        High         Low        Open  \\\n",
       "Date                                                                \n",
       "2021-04-01   MSFT  251.599030  262.583675  237.501592  237.920623   \n",
       "2021-05-01   AAPL  124.398697  133.842662  122.042698  131.816090   \n",
       "2021-05-01   LABU   63.000000   81.250000   50.000000   80.150002   \n",
       "2021-05-01   MSFT  249.104782  253.764037  237.521544  252.816213   \n",
       "2021-06-01   AAPL  133.110001  134.639999  123.129997  125.080002   \n",
       "2021-06-01   LABU   78.839996   79.139999   58.630001   64.089996   \n",
       "2021-06-01   MSFT  265.019989  267.850006  243.000000  251.229996   \n",
       "2021-06-25   AAPL  133.110001  133.889999  132.809998  133.460007   \n",
       "2021-06-25   LABU   78.839996   79.139999   75.442902   77.000000   \n",
       "2021-06-25   MSFT  265.019989  267.250000  264.760010  266.230011   \n",
       "\n",
       "                  Volume  \n",
       "Date                      \n",
       "2021-04-01  5.686616e+08  \n",
       "2021-05-01  1.711935e+09  \n",
       "2021-05-01  7.112210e+07  \n",
       "2021-05-01  4.950849e+08  \n",
       "2021-06-01  1.416442e+09  \n",
       "2021-06-01  5.124090e+07  \n",
       "2021-06-01  4.472694e+08  \n",
       "2021-06-25  7.078375e+07  \n",
       "2021-06-25  1.961534e+06  \n",
       "2021-06-25  2.561111e+07  "
      ]
     },
     "execution_count": 274,
     "metadata": {},
     "output_type": "execute_result"
    }
   ],
   "source": [
    "# unstack\n",
    "stocks_raw = data.stack(level=0).rename_axis(['Date', 'Ticker']).reset_index(level=1)\n",
    "stocks_raw = stocks_raw.sort_values(by=['Date', 'Ticker'])\n",
    "stocks_raw.tail(10)"
   ]
  },
  {
   "cell_type": "markdown",
   "metadata": {},
   "source": [
    "Since we only want one stock price per month, we filter out the last row of each asset if it does not fall on the first day of the month. We also only keep the last 5 years of data to maintain an accurate representation of each company's relevant returns(profitability in the 1990s does not entail profitability in 2020s). Because we require the previous month's price to compute the current month's return, we need to keep an extra month(a total of 61 months)"
   ]
  },
  {
   "cell_type": "code",
   "execution_count": 277,
   "metadata": {},
   "outputs": [
    {
     "data": {
      "text/html": [
       "<div>\n",
       "<style scoped>\n",
       "    .dataframe tbody tr th:only-of-type {\n",
       "        vertical-align: middle;\n",
       "    }\n",
       "\n",
       "    .dataframe tbody tr th {\n",
       "        vertical-align: top;\n",
       "    }\n",
       "\n",
       "    .dataframe thead th {\n",
       "        text-align: right;\n",
       "    }\n",
       "</style>\n",
       "<table border=\"1\" class=\"dataframe\">\n",
       "  <thead>\n",
       "    <tr style=\"text-align: right;\">\n",
       "      <th></th>\n",
       "      <th>Ticker</th>\n",
       "      <th>Close</th>\n",
       "      <th>High</th>\n",
       "      <th>Low</th>\n",
       "      <th>Open</th>\n",
       "      <th>Volume</th>\n",
       "    </tr>\n",
       "    <tr>\n",
       "      <th>Date</th>\n",
       "      <th></th>\n",
       "      <th></th>\n",
       "      <th></th>\n",
       "      <th></th>\n",
       "      <th></th>\n",
       "      <th></th>\n",
       "    </tr>\n",
       "  </thead>\n",
       "  <tbody>\n",
       "    <tr>\n",
       "      <th>2016-05-01</th>\n",
       "      <td>AAPL</td>\n",
       "      <td>23.180790</td>\n",
       "      <td>23.382746</td>\n",
       "      <td>20.768929</td>\n",
       "      <td>21.813527</td>\n",
       "      <td>3.602686e+09</td>\n",
       "    </tr>\n",
       "    <tr>\n",
       "      <th>2016-05-01</th>\n",
       "      <td>LABU</td>\n",
       "      <td>36.286392</td>\n",
       "      <td>36.861110</td>\n",
       "      <td>22.017576</td>\n",
       "      <td>30.707682</td>\n",
       "      <td>1.042838e+08</td>\n",
       "    </tr>\n",
       "    <tr>\n",
       "      <th>2016-05-01</th>\n",
       "      <td>MSFT</td>\n",
       "      <td>48.487541</td>\n",
       "      <td>48.487541</td>\n",
       "      <td>45.248939</td>\n",
       "      <td>45.742963</td>\n",
       "      <td>5.307048e+08</td>\n",
       "    </tr>\n",
       "    <tr>\n",
       "      <th>2016-06-01</th>\n",
       "      <td>AAPL</td>\n",
       "      <td>22.327021</td>\n",
       "      <td>23.796027</td>\n",
       "      <td>21.369481</td>\n",
       "      <td>23.125748</td>\n",
       "      <td>3.117991e+09</td>\n",
       "    </tr>\n",
       "    <tr>\n",
       "      <th>2016-06-01</th>\n",
       "      <td>LABU</td>\n",
       "      <td>27.962915</td>\n",
       "      <td>39.526602</td>\n",
       "      <td>21.740127</td>\n",
       "      <td>35.691859</td>\n",
       "      <td>1.100384e+08</td>\n",
       "    </tr>\n",
       "  </tbody>\n",
       "</table>\n",
       "</div>"
      ],
      "text/plain": [
       "           Ticker      Close       High        Low       Open        Volume\n",
       "Date                                                                       \n",
       "2016-05-01   AAPL  23.180790  23.382746  20.768929  21.813527  3.602686e+09\n",
       "2016-05-01   LABU  36.286392  36.861110  22.017576  30.707682  1.042838e+08\n",
       "2016-05-01   MSFT  48.487541  48.487541  45.248939  45.742963  5.307048e+08\n",
       "2016-06-01   AAPL  22.327021  23.796027  21.369481  23.125748  3.117991e+09\n",
       "2016-06-01   LABU  27.962915  39.526602  21.740127  35.691859  1.100384e+08"
      ]
     },
     "execution_count": 277,
     "metadata": {},
     "output_type": "execute_result"
    }
   ],
   "source": [
    "recent = stocks_raw.index[-1] - pd.DateOffset(day = 1)\n",
    "begin = recent - pd.DateOffset(years = 5) - pd.DateOffset(months = 1)\n",
    "stocks = stocks_raw.loc[(stocks_raw.index <= latest) & (stocks_raw.index >= begin)].copy()\n",
    "sp500 = sp500_raw.loc[(sp500_raw.index <= latest) & (sp500_raw.index >= begin)].copy()\n",
    "stocks.head()"
   ]
  },
  {
   "cell_type": "markdown",
   "metadata": {},
   "source": [
    "To compute the (percent) return of a specified observation, we subtract the current price with last month's price and divide by last month's price. We can easily vectorize this by subtracting an array of the (open) prices without the last observation from an array of the (open) prices without the first observation. We then divide by the former.  "
   ]
  },
  {
   "cell_type": "code",
   "execution_count": 284,
   "metadata": {},
   "outputs": [],
   "source": [
    "for t in ticks:\n",
    "    # turn into np array to avoid indexing issues\n",
    "    nofirst = np.array(stocks.loc[stocks['Ticker'] == t, 'Open'].iloc[1:])\n",
    "    nolast = np.array(stocks.loc[stocks['Ticker'] == t, 'Open'].iloc[:len(stocks.loc[stocks['Ticker'] == t]) - 1])\n",
    "    # add back index before assignment\n",
    "    stocks.loc[stocks['Ticker'] == t, 'PercReturns'] = pd.Series((nofirst - nolast) / nolast, index = stocks.loc[stocks['Ticker'] == t, 'Open'].iloc[1:].index)\n",
    "\n",
    "spnofirst = np.array(sp500['Open'].iloc[1:])\n",
    "spnolast = np.array(sp500['Open'].iloc[:len(sp500) - 1])\n",
    "spreturns = (spnofirst - spnolast) / spnolast"
   ]
  },
  {
   "cell_type": "markdown",
   "metadata": {},
   "source": [
    "To make calculating the mean returns and covariances easier, we can pivot the dataframe such that each ticker's percent returns form individual columns. Note that while the ticker labels are lost, the order remains the same. "
   ]
  },
  {
   "cell_type": "code",
   "execution_count": 291,
   "metadata": {},
   "outputs": [
    {
     "data": {
      "text/plain": [
       "array([[0.00766766, 0.01096201, 0.0030766 ],\n",
       "       [0.01096201, 0.07438112, 0.00741464],\n",
       "       [0.0030766 , 0.00741464, 0.0025471 ]])"
      ]
     },
     "execution_count": 291,
     "metadata": {},
     "output_type": "execute_result"
    }
   ],
   "source": [
    "stockpivot = stocks.pivot(columns = 'Ticker', values = 'PercReturns').iloc[1:]\n",
    "returnarr = stockpivot.to_numpy()\n",
    "returnmean = returnarr.mean(axis = 0)\n",
    "returncov = np.cov(m = returnarr, rowvar = False)\n",
    "invcov = np.linalg.lstsq(a = returncov, b = np.eye(len(ticks)), rcond = None)[0]\n",
    "returncov"
   ]
  },
  {
   "cell_type": "code",
   "execution_count": 296,
   "metadata": {},
   "outputs": [],
   "source": [
    "betas = np.zeros(len(ticks))\n",
    "alphas = np.zeros(len(ticks))\n",
    "unsyserr = np.zeros(len(ticks))\n",
    "for i in np.arange(len(ticks)):\n",
    "    betas[i], alphas[i], r, p, se = stats.linregress(spreturns, returnarr[:,i])\n",
    "    unsyserr[i] = np.sum((returnarr[:,i] - alphas[i] - betas[i]*spreturns)**2) / (len(spreturns) - 2)"
   ]
  },
  {
   "cell_type": "code",
   "execution_count": 299,
   "metadata": {},
   "outputs": [
    {
     "data": {
      "text/html": [
       "<div>\n",
       "<style scoped>\n",
       "    .dataframe tbody tr th:only-of-type {\n",
       "        vertical-align: middle;\n",
       "    }\n",
       "\n",
       "    .dataframe tbody tr th {\n",
       "        vertical-align: top;\n",
       "    }\n",
       "\n",
       "    .dataframe thead th {\n",
       "        text-align: right;\n",
       "    }\n",
       "</style>\n",
       "<table border=\"1\" class=\"dataframe\">\n",
       "  <thead>\n",
       "    <tr style=\"text-align: right;\">\n",
       "      <th></th>\n",
       "      <th>alpha</th>\n",
       "      <th>beta</th>\n",
       "      <th>eps</th>\n",
       "    </tr>\n",
       "  </thead>\n",
       "  <tbody>\n",
       "    <tr>\n",
       "      <th>AAPL</th>\n",
       "      <td>0.016725</td>\n",
       "      <td>1.246643</td>\n",
       "      <td>0.004229</td>\n",
       "    </tr>\n",
       "    <tr>\n",
       "      <th>LABU</th>\n",
       "      <td>-0.001609</td>\n",
       "      <td>3.880041</td>\n",
       "      <td>0.041071</td>\n",
       "    </tr>\n",
       "    <tr>\n",
       "      <th>MSFT</th>\n",
       "      <td>0.019163</td>\n",
       "      <td>0.806234</td>\n",
       "      <td>0.001098</td>\n",
       "    </tr>\n",
       "  </tbody>\n",
       "</table>\n",
       "</div>"
      ],
      "text/plain": [
       "         alpha      beta       eps\n",
       "AAPL  0.016725  1.246643  0.004229\n",
       "LABU -0.001609  3.880041  0.041071\n",
       "MSFT  0.019163  0.806234  0.001098"
      ]
     },
     "execution_count": 299,
     "metadata": {},
     "output_type": "execute_result"
    }
   ],
   "source": [
    "simdf = pd.DataFrame(data = {'alpha': alphas, 'beta': betas, 'eps': unsyserr}, index = stockpivot.columns.values)\n",
    "simdf"
   ]
  },
  {
   "cell_type": "code",
   "execution_count": 295,
   "metadata": {},
   "outputs": [
    {
     "data": {
      "text/plain": [
       "'AAPL'"
      ]
     },
     "execution_count": 295,
     "metadata": {},
     "output_type": "execute_result"
    }
   ],
   "source": []
  }
 ],
 "metadata": {
  "kernelspec": {
   "display_name": "Python 3",
   "language": "python",
   "name": "python3"
  },
  "language_info": {
   "codemirror_mode": {
    "name": "ipython",
    "version": 3
   },
   "file_extension": ".py",
   "mimetype": "text/x-python",
   "name": "python",
   "nbconvert_exporter": "python",
   "pygments_lexer": "ipython3",
   "version": "3.8.5"
  }
 },
 "nbformat": 4,
 "nbformat_minor": 4
}

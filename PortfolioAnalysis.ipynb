{
 "cells": [
  {
   "cell_type": "markdown",
   "metadata": {},
   "source": [
    "# Portfolio Analysis with Statistics"
   ]
  },
  {
   "cell_type": "markdown",
   "metadata": {},
   "source": [
    "To access stock data, we will use the [yfinance library](https://github.com/ranaroussi/yfinance). We first download the historical monthly stock prices for the chosen stocks/tickers(slightly modifying the code in the library tutorial). The data comes in the form of a pandas dataframe with multi-level headers, so we also unstack the levels for simpler access."
   ]
  },
  {
   "cell_type": "code",
   "execution_count": 19,
   "metadata": {},
   "outputs": [
    {
     "name": "stdout",
     "output_type": "stream",
     "text": [
      "[*********************100%***********************]  8 of 8 completed\n"
     ]
    }
   ],
   "source": [
    "import yfinance as yf\n",
    "import numpy as np\n",
    "import scipy.stats as stats\n",
    "import pandas as pd\n",
    "ticks = [\"AMD\", \"GE\", \"MSFT\", \"PILL\", \"TQQQ\", \"XLV\", \"TSLA\"]\n",
    "#ticks = pd.read_csv(\"nasdaq_screener.csv\")['Symbol'].tolist()\n",
    "data = yf.download(tickers = ['^GSPC'] + ticks, start = '2016-06-01', interval = \"1mo\", group_by = 'ticker', auto_adjust = True, threads = True)"
   ]
  },
  {
   "cell_type": "code",
   "execution_count": 20,
   "metadata": {},
   "outputs": [
    {
     "data": {
      "text/html": [
       "<div>\n",
       "<style scoped>\n",
       "    .dataframe tbody tr th:only-of-type {\n",
       "        vertical-align: middle;\n",
       "    }\n",
       "\n",
       "    .dataframe tbody tr th {\n",
       "        vertical-align: top;\n",
       "    }\n",
       "\n",
       "    .dataframe thead th {\n",
       "        text-align: right;\n",
       "    }\n",
       "</style>\n",
       "<table border=\"1\" class=\"dataframe\">\n",
       "  <thead>\n",
       "    <tr style=\"text-align: right;\">\n",
       "      <th></th>\n",
       "      <th>Ticker</th>\n",
       "      <th>Close</th>\n",
       "      <th>High</th>\n",
       "      <th>Low</th>\n",
       "      <th>Open</th>\n",
       "      <th>Volume</th>\n",
       "    </tr>\n",
       "    <tr>\n",
       "      <th>Date</th>\n",
       "      <th></th>\n",
       "      <th></th>\n",
       "      <th></th>\n",
       "      <th></th>\n",
       "      <th></th>\n",
       "      <th></th>\n",
       "    </tr>\n",
       "  </thead>\n",
       "  <tbody>\n",
       "    <tr>\n",
       "      <th>2016-06-01</th>\n",
       "      <td>AMD</td>\n",
       "      <td>5.140000</td>\n",
       "      <td>5.520000</td>\n",
       "      <td>4.070000</td>\n",
       "      <td>4.600000</td>\n",
       "      <td>6.256425e+08</td>\n",
       "    </tr>\n",
       "    <tr>\n",
       "      <th>2016-06-01</th>\n",
       "      <td>GE</td>\n",
       "      <td>27.539967</td>\n",
       "      <td>27.557463</td>\n",
       "      <td>25.519085</td>\n",
       "      <td>26.280196</td>\n",
       "      <td>9.001391e+08</td>\n",
       "    </tr>\n",
       "    <tr>\n",
       "      <th>2016-06-01</th>\n",
       "      <td>MSFT</td>\n",
       "      <td>47.140781</td>\n",
       "      <td>48.780623</td>\n",
       "      <td>44.257246</td>\n",
       "      <td>48.310780</td>\n",
       "      <td>8.236270e+08</td>\n",
       "    </tr>\n",
       "    <tr>\n",
       "      <th>2016-06-01</th>\n",
       "      <td>TQQQ</td>\n",
       "      <td>8.010098</td>\n",
       "      <td>8.784329</td>\n",
       "      <td>6.802596</td>\n",
       "      <td>8.611354</td>\n",
       "      <td>7.897104e+08</td>\n",
       "    </tr>\n",
       "    <tr>\n",
       "      <th>2016-06-01</th>\n",
       "      <td>TSLA</td>\n",
       "      <td>42.456001</td>\n",
       "      <td>48.169998</td>\n",
       "      <td>37.574001</td>\n",
       "      <td>44.296001</td>\n",
       "      <td>6.083640e+08</td>\n",
       "    </tr>\n",
       "    <tr>\n",
       "      <th>...</th>\n",
       "      <td>...</td>\n",
       "      <td>...</td>\n",
       "      <td>...</td>\n",
       "      <td>...</td>\n",
       "      <td>...</td>\n",
       "      <td>...</td>\n",
       "    </tr>\n",
       "    <tr>\n",
       "      <th>2021-06-28</th>\n",
       "      <td>PILL</td>\n",
       "      <td>24.980000</td>\n",
       "      <td>25.230000</td>\n",
       "      <td>24.775000</td>\n",
       "      <td>25.230000</td>\n",
       "      <td>8.524000e+03</td>\n",
       "    </tr>\n",
       "    <tr>\n",
       "      <th>2021-06-28</th>\n",
       "      <td>TQQQ</td>\n",
       "      <td>121.669998</td>\n",
       "      <td>121.879997</td>\n",
       "      <td>118.750000</td>\n",
       "      <td>118.769997</td>\n",
       "      <td>2.219692e+07</td>\n",
       "    </tr>\n",
       "    <tr>\n",
       "      <th>2021-06-28</th>\n",
       "      <td>TSLA</td>\n",
       "      <td>688.719971</td>\n",
       "      <td>694.699890</td>\n",
       "      <td>670.320007</td>\n",
       "      <td>671.640015</td>\n",
       "      <td>2.162816e+07</td>\n",
       "    </tr>\n",
       "    <tr>\n",
       "      <th>2021-06-28</th>\n",
       "      <td>XLV</td>\n",
       "      <td>125.889999</td>\n",
       "      <td>126.050003</td>\n",
       "      <td>125.410004</td>\n",
       "      <td>125.830002</td>\n",
       "      <td>4.610634e+06</td>\n",
       "    </tr>\n",
       "    <tr>\n",
       "      <th>2021-06-28</th>\n",
       "      <td>^GSPC</td>\n",
       "      <td>4290.609863</td>\n",
       "      <td>4292.140137</td>\n",
       "      <td>4274.669922</td>\n",
       "      <td>4284.899902</td>\n",
       "      <td>1.985885e+09</td>\n",
       "    </tr>\n",
       "  </tbody>\n",
       "</table>\n",
       "<p>478 rows × 6 columns</p>\n",
       "</div>"
      ],
      "text/plain": [
       "           Ticker        Close         High          Low         Open  \\\n",
       "Date                                                                    \n",
       "2016-06-01    AMD     5.140000     5.520000     4.070000     4.600000   \n",
       "2016-06-01     GE    27.539967    27.557463    25.519085    26.280196   \n",
       "2016-06-01   MSFT    47.140781    48.780623    44.257246    48.310780   \n",
       "2016-06-01   TQQQ     8.010098     8.784329     6.802596     8.611354   \n",
       "2016-06-01   TSLA    42.456001    48.169998    37.574001    44.296001   \n",
       "...           ...          ...          ...          ...          ...   \n",
       "2021-06-28   PILL    24.980000    25.230000    24.775000    25.230000   \n",
       "2021-06-28   TQQQ   121.669998   121.879997   118.750000   118.769997   \n",
       "2021-06-28   TSLA   688.719971   694.699890   670.320007   671.640015   \n",
       "2021-06-28    XLV   125.889999   126.050003   125.410004   125.830002   \n",
       "2021-06-28  ^GSPC  4290.609863  4292.140137  4274.669922  4284.899902   \n",
       "\n",
       "                  Volume  \n",
       "Date                      \n",
       "2016-06-01  6.256425e+08  \n",
       "2016-06-01  9.001391e+08  \n",
       "2016-06-01  8.236270e+08  \n",
       "2016-06-01  7.897104e+08  \n",
       "2016-06-01  6.083640e+08  \n",
       "...                  ...  \n",
       "2021-06-28  8.524000e+03  \n",
       "2021-06-28  2.219692e+07  \n",
       "2021-06-28  2.162816e+07  \n",
       "2021-06-28  4.610634e+06  \n",
       "2021-06-28  1.985885e+09  \n",
       "\n",
       "[478 rows x 6 columns]"
      ]
     },
     "execution_count": 20,
     "metadata": {},
     "output_type": "execute_result"
    }
   ],
   "source": [
    "# unstack\n",
    "stocks_raw = data.stack(level=0).rename_axis(['Date', 'Ticker']).reset_index(level=1)\n",
    "stocks_raw = stocks_raw.groupby('Ticker').filter(lambda x: len(x) > 36)\n",
    "stocks_raw = stocks_raw.sort_values(by=['Date', 'Ticker'])\n",
    "stocks_raw"
   ]
  },
  {
   "cell_type": "markdown",
   "metadata": {},
   "source": [
    "Since we only want one stock price per month, we filter out the last row of each asset if it does not fall on the first day of the month. We also only keep the last 5 years of data to maintain an accurate representation of each company's relevant returns(profitability in the 1990s does not entail profitability in 2020s). Because we require the previous month's price to compute the current month's return, we need to keep an extra month(a total of 61 months)"
   ]
  },
  {
   "cell_type": "code",
   "execution_count": 3,
   "metadata": {},
   "outputs": [],
   "source": [
    "recent = stocks_raw.index[-1] - pd.DateOffset(day = 1)\n",
    "stocks = stocks_raw.loc[stocks_raw.index <= recent].copy()\n",
    "#sp500 = sp500_raw.loc[(sp500_raw.index <= recent) & (sp500_raw.index >= begin)].copy()"
   ]
  },
  {
   "cell_type": "markdown",
   "metadata": {},
   "source": [
    "To compute the (percent) return of a specified observation, we subtract the current price with last month's price and divide by last month's price. We can easily vectorize this by subtracting an array of the (open) prices without the last observation from an array of the (open) prices without the first observation. We then divide by the former.  "
   ]
  },
  {
   "cell_type": "code",
   "execution_count": 4,
   "metadata": {},
   "outputs": [],
   "source": [
    "pivoted = stocks.pivot(columns = 'Ticker', values = 'Open').dropna(axis=1, how='all')\n",
    "spprices = pivoted['^GSPC'].to_numpy()\n",
    "pivoted = pivoted.drop(columns = ['^GSPC'])\n",
    "prices = pivoted.to_numpy()\n",
    "returnarr = prices[1:, :] - prices[:(prices.shape[0] - 1), :]\n",
    "returnarr = returnarr /  prices[:(prices.shape[0] - 1), :]\n",
    "spreturns = (spprices[1:] - spprices[:(len(spprices) - 1)]) / spprices[:(len(spprices) - 1)]"
   ]
  },
  {
   "cell_type": "code",
   "execution_count": 5,
   "metadata": {},
   "outputs": [
    {
     "data": {
      "text/plain": [
       "array([[ 1.06521795e-01,  5.58750705e-02, -2.49811888e-02,\n",
       "                    nan, -7.14630408e-02, -6.92613485e-02,\n",
       "         1.44713765e-02],\n",
       "       [ 3.53634511e-01, -1.14357393e-02,  1.06982353e-01,\n",
       "                    nan,  2.30369124e-01,  1.42427422e-01,\n",
       "         4.73075212e-02],\n",
       "       [ 4.20899808e-02,  9.63825444e-04,  1.35217101e-02,\n",
       "                    nan,  2.80643080e-02, -1.12484087e-01,\n",
       "        -3.33466744e-02],\n",
       "       [-3.20334296e-02, -4.68724210e-02,  7.01631633e-03,\n",
       "                    nan,  5.36918504e-02,  1.57408970e-02,\n",
       "        -9.51141703e-03],\n",
       "       [ 5.32374637e-02, -1.56142953e-02,  4.45915167e-02,\n",
       "                    nan, -3.66757012e-02, -6.71690400e-02,\n",
       "        -6.11507081e-02],\n",
       "       [ 2.18579217e-01,  5.65518449e-02,  9.10571644e-03,\n",
       "                    nan, -5.67167708e-04, -4.94344602e-02,\n",
       "         2.12168793e-02],\n",
       "       [ 2.80269056e-01,  4.13950063e-02,  4.45850110e-02,\n",
       "                    nan,  5.04943953e-02,  1.41354539e-01,\n",
       "         1.13912258e-02],\n",
       "       [-4.55341904e-02, -6.12567558e-02,  2.50041339e-02,\n",
       "                    nan,  1.58552646e-01,  1.77743658e-01,\n",
       "         1.74576533e-02],\n",
       "       [ 3.83486280e-01,  1.64521405e-02,  2.46711475e-03,\n",
       "                    nan,  1.31592894e-01,  4.46547959e-03,\n",
       "         6.97677191e-02],\n",
       "       [-3.18302085e-02, -7.33818507e-03,  2.61967483e-02,\n",
       "                    nan,  4.13136025e-02,  1.28727727e-01,\n",
       "        -9.67852997e-03],\n",
       "       [-8.01369894e-02, -2.52015693e-02,  4.36104395e-02,\n",
       "                    nan,  8.74872382e-02,  9.75252800e-02,\n",
       "         1.59862933e-02],\n",
       "       [-1.62323176e-01, -5.17063608e-02,  2.85760104e-02,\n",
       "                    nan,  1.10695347e-01,  9.24796931e-02,\n",
       "         7.66901124e-03],\n",
       "       [ 1.17333306e-01, -4.39418441e-03, -1.29553475e-02,\n",
       "                    nan, -6.98108632e-02,  7.62789715e-02,\n",
       "         4.74442240e-02],\n",
       "       [ 9.14877168e-02, -5.63329255e-02,  5.43774337e-02,\n",
       "                    nan,  1.17001823e-01, -1.27592892e-01,\n",
       "         8.42660637e-03],\n",
       "       [-4.37318054e-02, -4.01871310e-02,  2.74697684e-02,\n",
       "                    nan,  4.79151097e-02,  1.02538711e-01,\n",
       "         1.53404251e-02],\n",
       "       [-2.43902209e-02, -5.60994700e-03,  1.25347595e-07,\n",
       "                    nan, -1.29781100e-02, -3.81893920e-02,\n",
       "         1.05854402e-02],\n",
       "       [-1.21093763e-01, -1.71345973e-01,  1.20064326e-01,\n",
       "                    nan,  1.45768049e-01, -2.99836640e-02,\n",
       "        -8.78370284e-03],\n",
       "       [-3.91110738e-02, -8.91878322e-02,  4.06142076e-03,\n",
       "                    nan,  2.18118062e-02, -8.06921888e-02,\n",
       "         2.68304378e-02],\n",
       "       [-3.60777362e-02, -3.16530913e-02,  3.02628845e-02,\n",
       "         3.86576635e-02,  4.79732536e-02,  2.14772173e-02,\n",
       "        -1.29716948e-03],\n",
       "       [ 3.07101707e-01, -8.64617546e-02,  1.00545735e-01,\n",
       "         1.19030110e-01,  2.29453574e-01,  1.24999924e-01,\n",
       "         5.74768988e-02],\n",
       "       [-9.98531328e-02, -1.11009649e-01, -3.78178070e-03,\n",
       "        -1.79251435e-01, -3.82728805e-02, -1.70655000e-02,\n",
       "        -4.29583816e-02],\n",
       "       [-1.85155009e-01, -5.01413516e-02, -3.74510533e-02,\n",
       "        -8.08000792e-02, -1.56542609e-01, -2.57238925e-01,\n",
       "        -3.14942386e-02],\n",
       "       [ 8.40841013e-02,  4.68401880e-02,  3.02863794e-02,\n",
       "        -3.48129320e-03,  1.09592742e-02,  1.45360199e-01,\n",
       "         1.35702982e-02],\n",
       "       [ 2.90858693e-01,  1.42047623e-03,  6.97384770e-02,\n",
       "         1.38864723e-01,  1.96325564e-01, -2.60638273e-02,\n",
       "         7.05911271e-03],\n",
       "       [ 5.86552701e-02, -3.54861733e-02, -1.18855169e-02,\n",
       "         1.02433059e-01, -1.74757153e-02,  2.59602582e-01,\n",
       "         6.85918137e-03],\n",
       "       [ 2.39189184e-01,  5.19288748e-03,  8.08358291e-02,\n",
       "         1.62020822e-01,  1.13905682e-01, -1.72410925e-01,\n",
       "         7.08432744e-02],\n",
       "       [ 3.96946599e-01, -4.94463799e-02,  4.94820943e-02,\n",
       "         1.21439402e-01,  1.55967728e-01, -3.52359284e-03,\n",
       "         4.29792134e-02],\n",
       "       [ 1.97892253e-01,  2.05044831e-02,  3.51826025e-02,\n",
       "        -8.70901270e-03,  1.15809472e-02,  2.97366274e-02,\n",
       "         3.43296718e-02],\n",
       "       [-4.00130351e-01, -2.31182790e-01, -6.71022592e-02,\n",
       "        -2.65460425e-01, -2.73517241e-01,  1.06256356e-01,\n",
       "        -6.81606846e-02],\n",
       "       [ 2.21075488e-01, -2.46753266e-01,  6.01415442e-02,\n",
       "         1.30514752e-01,  2.67705857e-02,  6.42700814e-02,\n",
       "         7.65169288e-02],\n",
       "       [-1.98843390e-01, -9.24912978e-03, -1.19026558e-01,\n",
       "        -3.55587506e-01, -3.56009969e-01, -1.49722205e-01,\n",
       "        -1.06913538e-01],\n",
       "       [ 3.66463093e-01,  3.67291989e-01,  4.24911809e-02,\n",
       "         2.51927057e-01,  3.32375033e-01, -2.22152212e-03,\n",
       "         6.57432391e-02],\n",
       "       [-2.60057408e-02,  6.54904723e-02,  9.24276087e-02,\n",
       "         1.57647400e-01,  1.24730225e-01,  4.97676734e-03,\n",
       "         1.58626334e-02],\n",
       "       [ 1.02211132e-01, -4.01326147e-02,  5.36805290e-02,\n",
       "        -1.53782908e-01,  1.18969378e-01, -7.92337621e-02,\n",
       "         4.70336099e-03],\n",
       "       [ 9.57608130e-02,  1.29739881e-02,  9.73518125e-02,\n",
       "        -1.20596736e-01,  1.54717065e-01, -1.54872233e-01,\n",
       "        -3.17406817e-02],\n",
       "       [-6.90848904e-03, -8.37437580e-02, -4.76638636e-02,\n",
       "        -2.37935925e-01, -2.59952489e-01, -2.23320058e-01,\n",
       "        -2.26002138e-02],\n",
       "       [ 1.05739162e-01,  1.43034450e-01,  1.03189567e-01,\n",
       "         1.41157582e-01,  3.10718730e-01,  2.40957316e-01,\n",
       "         7.33559655e-02],\n",
       "       [-4.05788260e-02, -2.35404178e-02,  2.70775421e-03,\n",
       "        -1.45957714e-01,  1.01071234e-02,  5.40375955e-02,\n",
       "        -2.37763933e-02],\n",
       "       [ 1.08196696e-02, -2.18900709e-01,  4.73866283e-04,\n",
       "        -2.25540017e-01, -1.01121864e-01, -7.65299192e-02,\n",
       "        -1.18485086e-02],\n",
       "       [-5.77359939e-02,  1.07368794e-01,  2.23262635e-02,\n",
       "         1.61564968e-02,  5.11047096e-02,  7.77400303e-02,\n",
       "         7.49796001e-03],\n",
       "       [ 1.83132524e-01,  1.24999901e-01,  3.29372577e-02,\n",
       "         2.80103497e-01,  1.26604542e-01,  3.09813684e-01,\n",
       "         5.41108568e-02],\n",
       "       [ 1.44020975e-01,  1.22023962e-01,  5.59167687e-02,\n",
       "         1.80555592e-01,  1.07249712e-01,  4.13504887e-02,\n",
       "         4.65042207e-02],\n",
       "       [ 1.91759943e-01, -6.17337983e-03,  4.59127393e-02,\n",
       "         3.56684482e-01,  1.41524082e-01,  2.88706816e-01,\n",
       "         3.58197657e-02],\n",
       "       [-9.81645494e-03,  1.09528134e-01,  7.33720098e-02,\n",
       "        -2.24675437e-02,  7.21452101e-02,  5.87020073e-01,\n",
       "        -2.29028385e-02],\n",
       "       [ 2.19826856e-02, -1.00321030e-01, -2.73924077e-02,\n",
       "        -2.56854804e-01, -1.66544042e-01,  5.57674297e-02,\n",
       "        -7.20226280e-02],\n",
       "       [-6.83255586e-02, -3.28504227e-01, -7.44660616e-02,\n",
       "        -5.13293537e-01, -4.49981073e-01, -2.91398337e-01,\n",
       "        -7.12914313e-02],\n",
       "       [ 1.55952905e-01, -1.13031890e-01,  1.49019657e-01,\n",
       "         5.61872889e-01,  4.98165183e-01,  4.98015828e-01,\n",
       "         1.51483110e-01],\n",
       "       [ 4.38613999e-02, -1.34932707e-02,  4.12307540e-02,\n",
       "         1.09921480e-01,  2.56276760e-01,  1.36423881e-01,\n",
       "         3.82392347e-02],\n",
       "       [-1.27555860e-02,  5.47705188e-02,  1.12851991e-01,\n",
       "        -6.43101528e-04,  1.92542085e-01,  2.62237753e-01,\n",
       "        -1.36194034e-02],\n",
       "       [ 4.85654586e-01, -1.13997093e-01,  4.12523087e-02,\n",
       "        -3.53925478e-02,  2.49233591e-01,  3.38134756e-01,\n",
       "         5.61965016e-02],\n",
       "       [ 1.75597842e-01,  2.11725998e-02,  6.87174667e-02,\n",
       "         9.87324593e-02,  3.57218799e-01,  7.32473161e-01,\n",
       "         1.81749157e-02],\n",
       "       [-9.63881722e-02,  1.65288678e-03, -5.33012552e-02,\n",
       "        -4.91802975e-02, -1.76892425e-01, -1.22236833e-01,\n",
       "        -1.59881015e-02],\n",
       "       [-8.68047110e-02,  1.96172228e-01, -4.30934664e-02,\n",
       "         4.40613372e-02, -1.22867434e-01, -1.06089502e-01,\n",
       "        -2.65168144e-02],\n",
       "       [ 2.16216241e-01,  3.77333412e-01,  5.27759643e-02,\n",
       "         2.17736965e-01,  3.50613507e-01,  5.16725956e-01,\n",
       "         7.40596883e-02],\n",
       "       [-1.51760856e-03,  5.51808733e-02,  3.73876041e-02,\n",
       "         2.79256630e-01,  1.37771243e-01,  2.03935791e-01,\n",
       "         3.20355596e-02],\n",
       "       [-5.73227526e-02, -2.75494284e-03,  5.63069757e-02,\n",
       "         1.96313882e-03,  1.64059335e-02,  1.31807124e-01,\n",
       "         1.83527003e-02],\n",
       "       [-1.68144541e-02,  1.89687058e-01,  5.88490636e-03,\n",
       "         9.48275875e-02, -2.03102550e-03, -1.52500947e-01,\n",
       "        -2.10399289e-02],\n",
       "       [-6.10284516e-02,  2.47488479e-02,  1.08945156e-02,\n",
       "        -1.95418786e-01,  1.37103553e-02, -2.52132308e-03,\n",
       "         3.35226615e-02],\n",
       "       [ 2.25798088e-02,  7.55913570e-04,  6.26073956e-02,\n",
       "        -7.47331112e-02,  1.49196987e-01,  2.24152604e-02,\n",
       "         4.32737694e-02],\n",
       "       [-1.17115905e-02,  7.47734266e-02, -6.27419212e-03,\n",
       "         7.69230981e-02, -4.51453068e-02, -1.07985225e-01,\n",
       "         1.44274265e-02]])"
      ]
     },
     "execution_count": 5,
     "metadata": {},
     "output_type": "execute_result"
    }
   ],
   "source": [
    "returnarr"
   ]
  },
  {
   "cell_type": "markdown",
   "metadata": {},
   "source": [
    "To make calculating parameters easier, we can pivot the dataframe such that each ticker's percent returns form individual columns. Note that we need to mask the data matrix to ignore NaN values. "
   ]
  },
  {
   "cell_type": "code",
   "execution_count": 6,
   "metadata": {},
   "outputs": [],
   "source": [
    "#stockpivot = stocks.pivot(columns = 'Ticker', values = 'PercReturns').iloc[1:].dropna(axis=1, how='all')\n",
    "#returnarr = stockpivot.to_numpy()\n",
    "#returnarr = returnarr[:, ~np.isnan(returnarr).all(axis=0)]\n",
    "#print(returnarr)\n",
    "# mask to ignore NaN for relatively new stocks\n",
    "#returnmean = np.ma.masked_invalid(returnarr).mean(axis = 0).data\n",
    "returnmean = returnarr.mean(axis = 0)\n",
    "#returncov = np.ma.cov(np.ma.masked_invalid(returnarr), rowvar = False).data\n",
    "#invcov = np.linalg.lstsq(a = returncov, b = np.eye(len(ticks)), rcond = None)[0]"
   ]
  },
  {
   "cell_type": "code",
   "execution_count": 7,
   "metadata": {},
   "outputs": [],
   "source": [
    "betas = np.zeros(returnarr.shape[1])\n",
    "alphas = np.zeros(returnarr.shape[1])\n",
    "unsyserr = np.zeros(returnarr.shape[1])\n",
    "for i in np.arange(returnarr.shape[1]):\n",
    "    treturn = returnarr[:,i]\n",
    "    tnonan = treturn[np.logical_not(np.isnan(treturn))]\n",
    "    spmatch = spreturns[(len(spreturns) - len(tnonan)):]\n",
    "    try:\n",
    "        betas[i], alphas[i], r, p, se = stats.linregress(spmatch, tnonan)\n",
    "    except: \n",
    "        print(returnarr[:,i])\n",
    "    unsyserr[i] = np.sum((tnonan - alphas[i] - betas[i]*spmatch)**2) / (len(spmatch) - 2)"
   ]
  },
  {
   "cell_type": "code",
   "execution_count": 8,
   "metadata": {},
   "outputs": [
    {
     "data": {
      "text/plain": [
       "array(['AMD', 'GE', 'MSFT', 'PILL', 'TQQQ', 'TSLA', 'XLV'], dtype=object)"
      ]
     },
     "execution_count": 8,
     "metadata": {},
     "output_type": "execute_result"
    }
   ],
   "source": [
    "pivoted.columns.values"
   ]
  },
  {
   "cell_type": "code",
   "execution_count": 9,
   "metadata": {},
   "outputs": [],
   "source": [
    "simdf = pd.DataFrame(data = {'alpha': alphas, 'beta': betas, 'eps': unsyserr, 'rmean': returnmean}, index = pivoted.columns.values)\n",
    "simdf['excess'] = simdf['rmean'] / simdf['beta']\n",
    "simdf = simdf.sort_values(by=['excess'], ascending = False)\n",
    "simdf = simdf.loc[(simdf['excess'] > 0) & (simdf['beta'] > 0)]"
   ]
  },
  {
   "cell_type": "code",
   "execution_count": 10,
   "metadata": {},
   "outputs": [
    {
     "data": {
      "text/html": [
       "<div>\n",
       "<style scoped>\n",
       "    .dataframe tbody tr th:only-of-type {\n",
       "        vertical-align: middle;\n",
       "    }\n",
       "\n",
       "    .dataframe tbody tr th {\n",
       "        vertical-align: top;\n",
       "    }\n",
       "\n",
       "    .dataframe thead th {\n",
       "        text-align: right;\n",
       "    }\n",
       "</style>\n",
       "<table border=\"1\" class=\"dataframe\">\n",
       "  <thead>\n",
       "    <tr style=\"text-align: right;\">\n",
       "      <th></th>\n",
       "      <th>alpha</th>\n",
       "      <th>beta</th>\n",
       "      <th>eps</th>\n",
       "      <th>rmean</th>\n",
       "      <th>excess</th>\n",
       "    </tr>\n",
       "  </thead>\n",
       "  <tbody>\n",
       "    <tr>\n",
       "      <th>MSFT</th>\n",
       "      <td>0.018721</td>\n",
       "      <td>0.806221</td>\n",
       "      <td>0.001104</td>\n",
       "      <td>0.029107</td>\n",
       "      <td>0.036104</td>\n",
       "    </tr>\n",
       "    <tr>\n",
       "      <th>AMD</th>\n",
       "      <td>0.036896</td>\n",
       "      <td>1.936005</td>\n",
       "      <td>0.019382</td>\n",
       "      <td>0.061837</td>\n",
       "      <td>0.031941</td>\n",
       "    </tr>\n",
       "    <tr>\n",
       "      <th>TSLA</th>\n",
       "      <td>0.034843</td>\n",
       "      <td>2.099968</td>\n",
       "      <td>0.029760</td>\n",
       "      <td>0.061896</td>\n",
       "      <td>0.029475</td>\n",
       "    </tr>\n",
       "    <tr>\n",
       "      <th>TQQQ</th>\n",
       "      <td>0.014494</td>\n",
       "      <td>3.314010</td>\n",
       "      <td>0.003893</td>\n",
       "      <td>0.057187</td>\n",
       "      <td>0.017256</td>\n",
       "    </tr>\n",
       "    <tr>\n",
       "      <th>XLV</th>\n",
       "      <td>0.001731</td>\n",
       "      <td>0.771602</td>\n",
       "      <td>0.000578</td>\n",
       "      <td>0.011671</td>\n",
       "      <td>0.015125</td>\n",
       "    </tr>\n",
       "  </tbody>\n",
       "</table>\n",
       "</div>"
      ],
      "text/plain": [
       "         alpha      beta       eps     rmean    excess\n",
       "MSFT  0.018721  0.806221  0.001104  0.029107  0.036104\n",
       "AMD   0.036896  1.936005  0.019382  0.061837  0.031941\n",
       "TSLA  0.034843  2.099968  0.029760  0.061896  0.029475\n",
       "TQQQ  0.014494  3.314010  0.003893  0.057187  0.017256\n",
       "XLV   0.001731  0.771602  0.000578  0.011671  0.015125"
      ]
     },
     "execution_count": 10,
     "metadata": {},
     "output_type": "execute_result"
    }
   ],
   "source": [
    "simdf"
   ]
  },
  {
   "cell_type": "code",
   "execution_count": 11,
   "metadata": {},
   "outputs": [],
   "source": [
    "num = simdf['rmean'] * simdf['beta'] / simdf['eps']\n",
    "den = simdf['beta']**2 / simdf['eps']\n",
    "simdf['C'] = spreturns.var() * num.cumsum() / (1 + spreturns.var() * den.cumsum())"
   ]
  },
  {
   "cell_type": "code",
   "execution_count": 12,
   "metadata": {},
   "outputs": [],
   "source": [
    "cutoff = simdf.loc[simdf['C'] < simdf['excess']]\n",
    "z = (cutoff['beta'] / cutoff['eps']) * (cutoff['excess'] - cutoff['C'])"
   ]
  },
  {
   "cell_type": "code",
   "execution_count": 13,
   "metadata": {
    "scrolled": true
   },
   "outputs": [
    {
     "data": {
      "text/plain": [
       "MSFT    0.889953\n",
       "AMD     0.074992\n",
       "TSLA    0.035054\n",
       "dtype: float64"
      ]
     },
     "execution_count": 13,
     "metadata": {},
     "output_type": "execute_result"
    }
   ],
   "source": [
    "#pd.set_option('display.max_rows', 110)\n",
    "z.sort_values(ascending = False) / z.sum()"
   ]
  },
  {
   "cell_type": "code",
   "execution_count": 14,
   "metadata": {},
   "outputs": [
    {
     "data": {
      "text/plain": [
       "3"
      ]
     },
     "execution_count": 14,
     "metadata": {},
     "output_type": "execute_result"
    }
   ],
   "source": [
    "len(z)"
   ]
  },
  {
   "cell_type": "code",
   "execution_count": null,
   "metadata": {},
   "outputs": [],
   "source": []
  }
 ],
 "metadata": {
  "kernelspec": {
   "display_name": "Python 3",
   "language": "python",
   "name": "python3"
  },
  "language_info": {
   "codemirror_mode": {
    "name": "ipython",
    "version": 3
   },
   "file_extension": ".py",
   "mimetype": "text/x-python",
   "name": "python",
   "nbconvert_exporter": "python",
   "pygments_lexer": "ipython3",
   "version": "3.8.5"
  }
 },
 "nbformat": 4,
 "nbformat_minor": 4
}

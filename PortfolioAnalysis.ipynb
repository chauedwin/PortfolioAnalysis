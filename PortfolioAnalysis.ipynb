{
 "cells": [
  {
   "cell_type": "markdown",
   "metadata": {},
   "source": [
    "# Portfolio Analysis with Statistics"
   ]
  },
  {
   "cell_type": "markdown",
   "metadata": {},
   "source": [
    "## Data ETL"
   ]
  },
  {
   "cell_type": "markdown",
   "metadata": {},
   "source": [
    "To access stock data, we will use the [yfinance library](https://github.com/ranaroussi/yfinance). We first download the historical monthly stock prices for the chosen stocks/tickers(slightly modifying the code in the library tutorial). The data comes in the form of a pandas dataframe with multi-level headers, so we also unstack the levels for simpler access."
   ]
  },
  {
   "cell_type": "code",
   "execution_count": 1,
   "metadata": {},
   "outputs": [
    {
     "name": "stdout",
     "output_type": "stream",
     "text": [
      "[*********************100%***********************]  506 of 506 completed\n",
      "\n",
      "2 Failed downloads:\n",
      "- BRK.B: No data found, symbol may be delisted\n",
      "- BF.B: No data found for this date range, symbol may be delisted\n"
     ]
    }
   ],
   "source": [
    "import yfinance as yf\n",
    "import numpy as np\n",
    "import scipy.stats as stats\n",
    "import pandas as pd\n",
    "#ticks = [\"AMD\", \"GE\", \"MSFT\", \"PILL\", \"TQQQ\", \"XLV\", \"TSLA\"]\n",
    "#ticks = pd.read_csv(\"nasdaq_screener.csv\")['Symbol'].tolist()\n",
    "ticks = pd.read_csv(\"constituents_csv.csv\")['Symbol'].tolist()\n",
    "data = yf.download(tickers = ['^GSPC'] + ticks, start = '2016-06-01', period = '1mo', interval = '1mo', group_by = 'ticker', auto_adjust = True, prepost = False, threads = True, proxy = None)"
   ]
  },
  {
   "cell_type": "code",
   "execution_count": 2,
   "metadata": {},
   "outputs": [
    {
     "data": {
      "text/html": [
       "<div>\n",
       "<style scoped>\n",
       "    .dataframe tbody tr th:only-of-type {\n",
       "        vertical-align: middle;\n",
       "    }\n",
       "\n",
       "    .dataframe tbody tr th {\n",
       "        vertical-align: top;\n",
       "    }\n",
       "\n",
       "    .dataframe thead th {\n",
       "        text-align: right;\n",
       "    }\n",
       "</style>\n",
       "<table border=\"1\" class=\"dataframe\">\n",
       "  <thead>\n",
       "    <tr style=\"text-align: right;\">\n",
       "      <th></th>\n",
       "      <th>Ticker</th>\n",
       "      <th>Adj Close</th>\n",
       "      <th>Close</th>\n",
       "      <th>High</th>\n",
       "      <th>Low</th>\n",
       "      <th>Open</th>\n",
       "      <th>Volume</th>\n",
       "    </tr>\n",
       "    <tr>\n",
       "      <th>Date</th>\n",
       "      <th></th>\n",
       "      <th></th>\n",
       "      <th></th>\n",
       "      <th></th>\n",
       "      <th></th>\n",
       "      <th></th>\n",
       "      <th></th>\n",
       "    </tr>\n",
       "  </thead>\n",
       "  <tbody>\n",
       "    <tr>\n",
       "      <th>2016-06-01</th>\n",
       "      <td>A</td>\n",
       "      <td>NaN</td>\n",
       "      <td>42.381901</td>\n",
       "      <td>44.598447</td>\n",
       "      <td>40.108029</td>\n",
       "      <td>43.709917</td>\n",
       "      <td>5.201100e+07</td>\n",
       "    </tr>\n",
       "    <tr>\n",
       "      <th>2016-06-01</th>\n",
       "      <td>AAL</td>\n",
       "      <td>NaN</td>\n",
       "      <td>27.206568</td>\n",
       "      <td>32.271163</td>\n",
       "      <td>23.881428</td>\n",
       "      <td>30.695083</td>\n",
       "      <td>2.742468e+08</td>\n",
       "    </tr>\n",
       "    <tr>\n",
       "      <th>2016-06-01</th>\n",
       "      <td>AAP</td>\n",
       "      <td>NaN</td>\n",
       "      <td>158.048325</td>\n",
       "      <td>158.194995</td>\n",
       "      <td>145.219050</td>\n",
       "      <td>150.430941</td>\n",
       "      <td>2.675870e+07</td>\n",
       "    </tr>\n",
       "    <tr>\n",
       "      <th>2016-06-01</th>\n",
       "      <td>AAPL</td>\n",
       "      <td>NaN</td>\n",
       "      <td>22.327021</td>\n",
       "      <td>23.796027</td>\n",
       "      <td>21.369481</td>\n",
       "      <td>23.125748</td>\n",
       "      <td>3.117991e+09</td>\n",
       "    </tr>\n",
       "    <tr>\n",
       "      <th>2016-06-01</th>\n",
       "      <td>ABBV</td>\n",
       "      <td>NaN</td>\n",
       "      <td>49.456955</td>\n",
       "      <td>52.220987</td>\n",
       "      <td>46.597065</td>\n",
       "      <td>50.271785</td>\n",
       "      <td>2.116455e+08</td>\n",
       "    </tr>\n",
       "    <tr>\n",
       "      <th>...</th>\n",
       "      <td>...</td>\n",
       "      <td>...</td>\n",
       "      <td>...</td>\n",
       "      <td>...</td>\n",
       "      <td>...</td>\n",
       "      <td>...</td>\n",
       "      <td>...</td>\n",
       "    </tr>\n",
       "    <tr>\n",
       "      <th>2021-07-13</th>\n",
       "      <td>ZBH</td>\n",
       "      <td>NaN</td>\n",
       "      <td>157.369995</td>\n",
       "      <td>160.199997</td>\n",
       "      <td>156.789993</td>\n",
       "      <td>159.490005</td>\n",
       "      <td>4.903710e+05</td>\n",
       "    </tr>\n",
       "    <tr>\n",
       "      <th>2021-07-13</th>\n",
       "      <td>ZBRA</td>\n",
       "      <td>NaN</td>\n",
       "      <td>533.884399</td>\n",
       "      <td>546.359985</td>\n",
       "      <td>531.940002</td>\n",
       "      <td>546.359985</td>\n",
       "      <td>1.215520e+05</td>\n",
       "    </tr>\n",
       "    <tr>\n",
       "      <th>2021-07-13</th>\n",
       "      <td>ZION</td>\n",
       "      <td>NaN</td>\n",
       "      <td>51.860001</td>\n",
       "      <td>52.580002</td>\n",
       "      <td>51.230000</td>\n",
       "      <td>52.549999</td>\n",
       "      <td>6.119710e+05</td>\n",
       "    </tr>\n",
       "    <tr>\n",
       "      <th>2021-07-13</th>\n",
       "      <td>ZTS</td>\n",
       "      <td>NaN</td>\n",
       "      <td>200.319397</td>\n",
       "      <td>200.570007</td>\n",
       "      <td>198.240005</td>\n",
       "      <td>198.610001</td>\n",
       "      <td>1.592728e+06</td>\n",
       "    </tr>\n",
       "    <tr>\n",
       "      <th>2021-07-13</th>\n",
       "      <td>^GSPC</td>\n",
       "      <td>NaN</td>\n",
       "      <td>4376.740234</td>\n",
       "      <td>4392.370117</td>\n",
       "      <td>4369.609863</td>\n",
       "      <td>4381.069824</td>\n",
       "      <td>1.080631e+09</td>\n",
       "    </tr>\n",
       "  </tbody>\n",
       "</table>\n",
       "<p>31292 rows × 7 columns</p>\n",
       "</div>"
      ],
      "text/plain": [
       "           Ticker  Adj Close        Close         High          Low  \\\n",
       "Date                                                                  \n",
       "2016-06-01      A        NaN    42.381901    44.598447    40.108029   \n",
       "2016-06-01    AAL        NaN    27.206568    32.271163    23.881428   \n",
       "2016-06-01    AAP        NaN   158.048325   158.194995   145.219050   \n",
       "2016-06-01   AAPL        NaN    22.327021    23.796027    21.369481   \n",
       "2016-06-01   ABBV        NaN    49.456955    52.220987    46.597065   \n",
       "...           ...        ...          ...          ...          ...   \n",
       "2021-07-13    ZBH        NaN   157.369995   160.199997   156.789993   \n",
       "2021-07-13   ZBRA        NaN   533.884399   546.359985   531.940002   \n",
       "2021-07-13   ZION        NaN    51.860001    52.580002    51.230000   \n",
       "2021-07-13    ZTS        NaN   200.319397   200.570007   198.240005   \n",
       "2021-07-13  ^GSPC        NaN  4376.740234  4392.370117  4369.609863   \n",
       "\n",
       "                   Open        Volume  \n",
       "Date                                   \n",
       "2016-06-01    43.709917  5.201100e+07  \n",
       "2016-06-01    30.695083  2.742468e+08  \n",
       "2016-06-01   150.430941  2.675870e+07  \n",
       "2016-06-01    23.125748  3.117991e+09  \n",
       "2016-06-01    50.271785  2.116455e+08  \n",
       "...                 ...           ...  \n",
       "2021-07-13   159.490005  4.903710e+05  \n",
       "2021-07-13   546.359985  1.215520e+05  \n",
       "2021-07-13    52.549999  6.119710e+05  \n",
       "2021-07-13   198.610001  1.592728e+06  \n",
       "2021-07-13  4381.069824  1.080631e+09  \n",
       "\n",
       "[31292 rows x 7 columns]"
      ]
     },
     "execution_count": 2,
     "metadata": {},
     "output_type": "execute_result"
    }
   ],
   "source": [
    "# unstack\n",
    "stocks_raw = data.stack(level=0).rename_axis(['Date', 'Ticker']).reset_index(level=1)\n",
    "stocks_raw = stocks_raw.groupby('Ticker').filter(lambda x: len(x) > 36)\n",
    "stocks_raw = stocks_raw.sort_values(by=['Date', 'Ticker'])\n",
    "stocks_raw"
   ]
  },
  {
   "cell_type": "markdown",
   "metadata": {},
   "source": [
    "Since we only want one stock price per month, we filter out the last row of each asset if it does not fall on the first day of the month. We also only keep the last 5 years of data to maintain an accurate representation of each company's relevant returns(profitability in the 1990s does not entail profitability in 2020s). Because we require the previous month's price to compute the current month's return, we need to keep an extra month(a total of 61 months)"
   ]
  },
  {
   "cell_type": "code",
   "execution_count": 3,
   "metadata": {},
   "outputs": [],
   "source": [
    "recent = stocks_raw.index[-1] - pd.DateOffset(day = 1)\n",
    "stocks = stocks_raw.loc[stocks_raw.index <= recent].copy()\n",
    "#sp500 = sp500_raw.loc[(sp500_raw.index <= recent) & (sp500_raw.index >= begin)].copy()"
   ]
  },
  {
   "cell_type": "markdown",
   "metadata": {},
   "source": [
    "To compute the (percent) return of a specified observation, we subtract the current price with last month's price and divide by last month's price. We can easily vectorize this by subtracting an array of the (open) prices without the last observation from an array of the (open) prices without the first observation. We then divide by the former.  "
   ]
  },
  {
   "cell_type": "markdown",
   "metadata": {},
   "source": [
    "To make calculating parameters easier, we can pivot the dataframe such that each ticker's percent returns form individual columns. Note that we need to mask the data matrix to ignore NaN values. "
   ]
  },
  {
   "cell_type": "code",
   "execution_count": 4,
   "metadata": {},
   "outputs": [],
   "source": [
    "pivoted = stocks.pivot(columns = 'Ticker', values = 'Open').dropna(axis=1, how='all')\n",
    "spprices = pivoted['^GSPC'].to_numpy()\n",
    "pivoted = pivoted.drop(columns = ['^GSPC'])\n",
    "prices = pivoted.to_numpy()\n",
    "returnarr = prices[1:, :] - prices[:(prices.shape[0] - 1), :]\n",
    "returnarr = returnarr /  prices[:(prices.shape[0] - 1), :]\n",
    "spreturns = (spprices[1:] - spprices[:(len(spprices) - 1)]) / spprices[:(len(spprices) - 1)]"
   ]
  },
  {
   "cell_type": "markdown",
   "metadata": {},
   "source": [
    "## SIM and weight calculations"
   ]
  },
  {
   "cell_type": "markdown",
   "metadata": {},
   "source": [
    "Next we compute the single index model parameters and store them in a dataframe, which includes C values. Finally we determine the assets above the cutoff point and compute the portfolio weights. "
   ]
  },
  {
   "cell_type": "code",
   "execution_count": 5,
   "metadata": {},
   "outputs": [],
   "source": [
    "betas = np.zeros(returnarr.shape[1])\n",
    "alphas = np.zeros(returnarr.shape[1])\n",
    "unsyserr = np.zeros(returnarr.shape[1])\n",
    "for i in np.arange(returnarr.shape[1]):\n",
    "    treturn = returnarr[:,i]\n",
    "    tnonan = treturn[np.logical_not(np.isnan(treturn))]\n",
    "    spmatch = spreturns[(len(spreturns) - len(tnonan)):]\n",
    "    try:\n",
    "        betas[i], alphas[i], r, p, se = stats.linregress(spmatch, tnonan)\n",
    "    except: \n",
    "        print(returnarr[:,i])\n",
    "    unsyserr[i] = np.sum((tnonan - alphas[i] - betas[i]*spmatch)**2) / (len(spmatch) - 2)"
   ]
  },
  {
   "cell_type": "code",
   "execution_count": 6,
   "metadata": {},
   "outputs": [],
   "source": [
    "returnmean = returnarr.mean(axis = 0)\n",
    "simdf = pd.DataFrame(data = {'alpha': alphas, 'beta': betas, 'eps': unsyserr, 'rmean': returnmean}, index = pivoted.columns.values)\n",
    "simdf['excess'] = simdf['rmean'] / simdf['beta']\n",
    "simdf = simdf.sort_values(by=['excess'], ascending = False)\n",
    "simdf = simdf.loc[(simdf['excess'] > 0) & (simdf['beta'] > 0)]"
   ]
  },
  {
   "cell_type": "code",
   "execution_count": 7,
   "metadata": {},
   "outputs": [
    {
     "data": {
      "text/html": [
       "<div>\n",
       "<style scoped>\n",
       "    .dataframe tbody tr th:only-of-type {\n",
       "        vertical-align: middle;\n",
       "    }\n",
       "\n",
       "    .dataframe tbody tr th {\n",
       "        vertical-align: top;\n",
       "    }\n",
       "\n",
       "    .dataframe thead th {\n",
       "        text-align: right;\n",
       "    }\n",
       "</style>\n",
       "<table border=\"1\" class=\"dataframe\">\n",
       "  <thead>\n",
       "    <tr style=\"text-align: right;\">\n",
       "      <th></th>\n",
       "      <th>alpha</th>\n",
       "      <th>beta</th>\n",
       "      <th>eps</th>\n",
       "      <th>rmean</th>\n",
       "      <th>excess</th>\n",
       "    </tr>\n",
       "  </thead>\n",
       "  <tbody>\n",
       "    <tr>\n",
       "      <th>NLOK</th>\n",
       "      <td>0.026792</td>\n",
       "      <td>0.209769</td>\n",
       "      <td>0.029112</td>\n",
       "      <td>0.029519</td>\n",
       "      <td>0.140722</td>\n",
       "    </tr>\n",
       "    <tr>\n",
       "      <th>CTXS</th>\n",
       "      <td>0.010506</td>\n",
       "      <td>0.127214</td>\n",
       "      <td>0.005378</td>\n",
       "      <td>0.012160</td>\n",
       "      <td>0.095587</td>\n",
       "    </tr>\n",
       "    <tr>\n",
       "      <th>NEE</th>\n",
       "      <td>0.015106</td>\n",
       "      <td>0.221104</td>\n",
       "      <td>0.002370</td>\n",
       "      <td>0.017980</td>\n",
       "      <td>0.081320</td>\n",
       "    </tr>\n",
       "    <tr>\n",
       "      <th>SBAC</th>\n",
       "      <td>0.017837</td>\n",
       "      <td>0.266114</td>\n",
       "      <td>0.003727</td>\n",
       "      <td>0.021296</td>\n",
       "      <td>0.080026</td>\n",
       "    </tr>\n",
       "    <tr>\n",
       "      <th>DLR</th>\n",
       "      <td>0.009856</td>\n",
       "      <td>0.166768</td>\n",
       "      <td>0.003150</td>\n",
       "      <td>0.012024</td>\n",
       "      <td>0.072098</td>\n",
       "    </tr>\n",
       "    <tr>\n",
       "      <th>...</th>\n",
       "      <td>...</td>\n",
       "      <td>...</td>\n",
       "      <td>...</td>\n",
       "      <td>...</td>\n",
       "      <td>...</td>\n",
       "    </tr>\n",
       "    <tr>\n",
       "      <th>CAH</th>\n",
       "      <td>-0.012217</td>\n",
       "      <td>1.030792</td>\n",
       "      <td>0.004805</td>\n",
       "      <td>0.001182</td>\n",
       "      <td>0.001147</td>\n",
       "    </tr>\n",
       "    <tr>\n",
       "      <th>UAA</th>\n",
       "      <td>-0.016811</td>\n",
       "      <td>1.366720</td>\n",
       "      <td>0.015793</td>\n",
       "      <td>0.000955</td>\n",
       "      <td>0.000699</td>\n",
       "    </tr>\n",
       "    <tr>\n",
       "      <th>CPB</th>\n",
       "      <td>-0.007125</td>\n",
       "      <td>0.562182</td>\n",
       "      <td>0.004031</td>\n",
       "      <td>0.000183</td>\n",
       "      <td>0.000325</td>\n",
       "    </tr>\n",
       "    <tr>\n",
       "      <th>VNO</th>\n",
       "      <td>-0.017915</td>\n",
       "      <td>1.391621</td>\n",
       "      <td>0.004305</td>\n",
       "      <td>0.000175</td>\n",
       "      <td>0.000126</td>\n",
       "    </tr>\n",
       "    <tr>\n",
       "      <th>UA</th>\n",
       "      <td>-0.018662</td>\n",
       "      <td>1.442271</td>\n",
       "      <td>0.014877</td>\n",
       "      <td>0.000086</td>\n",
       "      <td>0.000059</td>\n",
       "    </tr>\n",
       "  </tbody>\n",
       "</table>\n",
       "<p>480 rows × 5 columns</p>\n",
       "</div>"
      ],
      "text/plain": [
       "         alpha      beta       eps     rmean    excess\n",
       "NLOK  0.026792  0.209769  0.029112  0.029519  0.140722\n",
       "CTXS  0.010506  0.127214  0.005378  0.012160  0.095587\n",
       "NEE   0.015106  0.221104  0.002370  0.017980  0.081320\n",
       "SBAC  0.017837  0.266114  0.003727  0.021296  0.080026\n",
       "DLR   0.009856  0.166768  0.003150  0.012024  0.072098\n",
       "...        ...       ...       ...       ...       ...\n",
       "CAH  -0.012217  1.030792  0.004805  0.001182  0.001147\n",
       "UAA  -0.016811  1.366720  0.015793  0.000955  0.000699\n",
       "CPB  -0.007125  0.562182  0.004031  0.000183  0.000325\n",
       "VNO  -0.017915  1.391621  0.004305  0.000175  0.000126\n",
       "UA   -0.018662  1.442271  0.014877  0.000086  0.000059\n",
       "\n",
       "[480 rows x 5 columns]"
      ]
     },
     "execution_count": 7,
     "metadata": {},
     "output_type": "execute_result"
    }
   ],
   "source": [
    "simdf"
   ]
  },
  {
   "cell_type": "code",
   "execution_count": 8,
   "metadata": {},
   "outputs": [],
   "source": [
    "num = simdf['rmean'] * simdf['beta'] / simdf['eps']\n",
    "den = simdf['beta']**2 / simdf['eps']\n",
    "simdf['C'] = spreturns.var() * num.cumsum() / (1 + spreturns.var() * den.cumsum())"
   ]
  },
  {
   "cell_type": "code",
   "execution_count": 9,
   "metadata": {},
   "outputs": [
    {
     "data": {
      "text/plain": [
       "NEE     0.109220\n",
       "SBAC    0.079013\n",
       "RMD     0.067225\n",
       "LLY     0.061293\n",
       "AMT     0.058090\n",
       "dtype: float64"
      ]
     },
     "execution_count": 9,
     "metadata": {},
     "output_type": "execute_result"
    }
   ],
   "source": [
    "cutoff = simdf.loc[simdf['C'] < simdf['excess']]\n",
    "z = (cutoff['beta'] / cutoff['eps']) * (cutoff['excess'] - cutoff['C'])\n",
    "weights = z.sort_values(ascending = False) / z.sum()\n",
    "weights.head()"
   ]
  },
  {
   "cell_type": "markdown",
   "metadata": {
    "scrolled": true
   },
   "source": [
    "## Portfolio Details"
   ]
  },
  {
   "cell_type": "code",
   "execution_count": 10,
   "metadata": {},
   "outputs": [
    {
     "data": {
      "image/png": "[encoded data removed]",
      "text/plain": [
       "<Figure size 432x288 with 1 Axes>"
      ]
     },
     "metadata": {
      "needs_background": "light"
     },
     "output_type": "display_data"
    }
   ],
   "source": [
    "import matplotlib.pyplot as plt\n",
    "plt.plot(stocks.loc[stocks['Ticker'] == weights.index[0], 'Open'])\n",
    "plt.show()"
   ]
  },
  {
   "cell_type": "code",
   "execution_count": 11,
   "metadata": {},
   "outputs": [
    {
     "name": "stdout",
     "output_type": "stream",
     "text": [
      "[*********************100%***********************]  39 of 39 completed\n"
     ]
    }
   ],
   "source": [
    "from datetime import datetime\n",
    "today_date = datetime.today().strftime('%Y-%m-%d')\n",
    "latest_raw = yf.download(tickers = weights.index.values.tolist(), start = today_date, period = '1d', interval = '1d', group_by = 'ticker', auto_adjust = True, prepost = False, threads = True, proxy = None)"
   ]
  },
  {
   "cell_type": "code",
   "execution_count": 12,
   "metadata": {},
   "outputs": [
    {
     "data": {
      "text/html": [
       "<div>\n",
       "<style scoped>\n",
       "    .dataframe tbody tr th:only-of-type {\n",
       "        vertical-align: middle;\n",
       "    }\n",
       "\n",
       "    .dataframe tbody tr th {\n",
       "        vertical-align: top;\n",
       "    }\n",
       "\n",
       "    .dataframe thead th {\n",
       "        text-align: right;\n",
       "    }\n",
       "</style>\n",
       "<table border=\"1\" class=\"dataframe\">\n",
       "  <thead>\n",
       "    <tr style=\"text-align: right;\">\n",
       "      <th></th>\n",
       "      <th>Ticker</th>\n",
       "      <th>Close</th>\n",
       "      <th>High</th>\n",
       "      <th>Low</th>\n",
       "      <th>Open</th>\n",
       "      <th>Volume</th>\n",
       "    </tr>\n",
       "    <tr>\n",
       "      <th>Date</th>\n",
       "      <th></th>\n",
       "      <th></th>\n",
       "      <th></th>\n",
       "      <th></th>\n",
       "      <th></th>\n",
       "      <th></th>\n",
       "    </tr>\n",
       "  </thead>\n",
       "  <tbody>\n",
       "    <tr>\n",
       "      <th>2021-07-13</th>\n",
       "      <td>AEE</td>\n",
       "      <td>83.169998</td>\n",
       "      <td>83.400002</td>\n",
       "      <td>82.650002</td>\n",
       "      <td>82.820000</td>\n",
       "      <td>329397</td>\n",
       "    </tr>\n",
       "    <tr>\n",
       "      <th>2021-07-13</th>\n",
       "      <td>AMT</td>\n",
       "      <td>279.250000</td>\n",
       "      <td>281.619995</td>\n",
       "      <td>278.070007</td>\n",
       "      <td>278.140015</td>\n",
       "      <td>660214</td>\n",
       "    </tr>\n",
       "    <tr>\n",
       "      <th>2021-07-13</th>\n",
       "      <td>AWK</td>\n",
       "      <td>163.195007</td>\n",
       "      <td>163.899994</td>\n",
       "      <td>162.509995</td>\n",
       "      <td>162.839996</td>\n",
       "      <td>152939</td>\n",
       "    </tr>\n",
       "    <tr>\n",
       "      <th>2021-07-13</th>\n",
       "      <td>BKR</td>\n",
       "      <td>22.530001</td>\n",
       "      <td>22.900000</td>\n",
       "      <td>22.322001</td>\n",
       "      <td>22.790001</td>\n",
       "      <td>3791283</td>\n",
       "    </tr>\n",
       "    <tr>\n",
       "      <th>2021-07-13</th>\n",
       "      <td>CCI</td>\n",
       "      <td>201.250000</td>\n",
       "      <td>203.279999</td>\n",
       "      <td>200.889999</td>\n",
       "      <td>201.649994</td>\n",
       "      <td>494684</td>\n",
       "    </tr>\n",
       "  </tbody>\n",
       "</table>\n",
       "</div>"
      ],
      "text/plain": [
       "           Ticker       Close        High         Low        Open   Volume\n",
       "Date                                                                      \n",
       "2021-07-13    AEE   83.169998   83.400002   82.650002   82.820000   329397\n",
       "2021-07-13    AMT  279.250000  281.619995  278.070007  278.140015   660214\n",
       "2021-07-13    AWK  163.195007  163.899994  162.509995  162.839996   152939\n",
       "2021-07-13    BKR   22.530001   22.900000   22.322001   22.790001  3791283\n",
       "2021-07-13    CCI  201.250000  203.279999  200.889999  201.649994   494684"
      ]
     },
     "execution_count": 12,
     "metadata": {},
     "output_type": "execute_result"
    }
   ],
   "source": [
    "latest = latest_raw.stack(level=0).rename_axis(['Date', 'Ticker']).reset_index(level=1)\n",
    "latest.head()"
   ]
  },
  {
   "cell_type": "code",
   "execution_count": 13,
   "metadata": {},
   "outputs": [
    {
     "data": {
      "text/plain": [
       "NEE     14.487135\n",
       "SBAC     2.395890\n",
       "RMD      2.702613\n",
       "LLY      2.600015\n",
       "AMT      2.080206\n",
       "AWK      3.445809\n",
       "DLR      3.288509\n",
       "EXR      2.614109\n",
       "EQIX     0.456781\n",
       "CTXS     3.003078\n",
       "GNRC     0.658536\n",
       "TTWO     1.679165\n",
       "PGR      2.602024\n",
       "PSA      0.803906\n",
       "NEM      3.825192\n",
       "MKTX     0.509825\n",
       "CLX      1.259171\n",
       "DPZ      0.432053\n",
       "WEC      2.081889\n",
       "ENPH     1.013597\n",
       "CCI      0.908102\n",
       "TMUS     1.053975\n",
       "NLOK     5.655846\n",
       "NFLX     0.274890\n",
       "DXCM     0.327258\n",
       "CMS      2.050523\n",
       "NVDA     0.121285\n",
       "XEL      1.244525\n",
       "HSY      0.464872\n",
       "IDXX     0.122394\n",
       "ZTS      0.364460\n",
       "AEE      0.837101\n",
       "TWTR     0.900748\n",
       "MSFT     0.179893\n",
       "CME      0.191706\n",
       "REGN     0.054007\n",
       "POOL     0.051698\n",
       "ETSY     0.059847\n",
       "BKR      0.173927\n",
       "dtype: float64"
      ]
     },
     "execution_count": 13,
     "metadata": {},
     "output_type": "execute_result"
    }
   ],
   "source": [
    "latest_prices = latest.set_index('Ticker', drop=True).loc[weights.index.values, 'Close']\n",
    "portvalue = 10000\n",
    "numstocks = portvalue*weights/latest_prices\n",
    "numstocks"
   ]
  },
  {
   "cell_type": "code",
   "execution_count": 16,
   "metadata": {},
   "outputs": [
    {
     "data": {
      "text/plain": [
       "10000.000000000002"
      ]
     },
     "execution_count": 16,
     "metadata": {},
     "output_type": "execute_result"
    }
   ],
   "source": [
    "sum(numstocks*latest_prices)"
   ]
  },
  {
   "cell_type": "code",
   "execution_count": 14,
   "metadata": {},
   "outputs": [
    {
     "name": "stdout",
     "output_type": "stream",
     "text": [
      "Ticker\n",
      "NEE      72.834999\n",
      "SBAC    297.526489\n",
      "RMD     205.437775\n",
      "LLY     198.861237\n",
      "AMT     254.242767\n",
      "Name: Close, dtype: float64\n",
      "Ticker\n",
      "NEE      74.989998\n",
      "SBAC    329.329987\n",
      "RMD     247.679993\n",
      "LLY     234.990005\n",
      "AMT     278.450012\n",
      "Name: Close, dtype: float64\n"
     ]
    },
    {
     "data": {
      "text/plain": [
       "0.08608053900646569"
      ]
     },
     "execution_count": 14,
     "metadata": {},
     "output_type": "execute_result"
    }
   ],
   "source": [
    "date1 = stocks.loc[(stocks.index == '2021-05-01') & (stocks['Ticker'] != '^GSPC')].set_index('Ticker', drop=True)\n",
    "date1 = date1.loc[weights.index.values, 'Close']\n",
    "date2 = stocks.loc[(stocks.index == '2021-07-01') & (stocks['Ticker'] != '^GSPC')].set_index('Ticker', drop=True)\n",
    "date2 = date2.loc[weights.index.values, 'Close']\n",
    "print(date1.head())\n",
    "print(date2.head())\n",
    "percchange = (date2 - date1) / date1\n",
    "sum(percchange * weights)"
   ]
  },
  {
   "cell_type": "code",
   "execution_count": 15,
   "metadata": {},
   "outputs": [
    {
     "name": "stdout",
     "output_type": "stream",
     "text": [
      "[4204.10986328]\n",
      "[4369.54980469]\n"
     ]
    },
    {
     "data": {
      "text/plain": [
       "array([0.03935195])"
      ]
     },
     "execution_count": 15,
     "metadata": {},
     "output_type": "execute_result"
    }
   ],
   "source": [
    "spdate1 = stocks.loc[(stocks.index == '2021-05-01') & (stocks['Ticker'] == '^GSPC')]['Close'].values\n",
    "spdate2 = stocks.loc[(stocks.index == '2021-07-01') & (stocks['Ticker'] == '^GSPC')]['Close'].values\n",
    "print(spdate1)\n",
    "print(spdate2)\n",
    "(spdate2 - spdate1) / spdate1"
   ]
  },
  {
   "cell_type": "code",
   "execution_count": 10,
   "metadata": {},
   "outputs": [
    {
     "ename": "OperationalError",
     "evalue": "(2003, \"Can't connect to MySQL server on 'localhost' ([WinError 10061] No connection could be made because the target machine actively refused it)\")",
     "output_type": "error",
     "traceback": [
      "\u001b[1;31m---------------------------------------------------------------------------\u001b[0m",
      "\u001b[1;31mConnectionRefusedError\u001b[0m                    Traceback (most recent call last)",
      "\u001b[1;32mc:\\users\\user\\miniconda3\\lib\\site-packages\\pymysql\\connections.py\u001b[0m in \u001b[0;36mconnect\u001b[1;34m(self, sock)\u001b[0m\n\u001b[0;32m    612\u001b[0m                         \u001b[1;32mtry\u001b[0m\u001b[1;33m:\u001b[0m\u001b[1;33m\u001b[0m\u001b[1;33m\u001b[0m\u001b[0m\n\u001b[1;32m--> 613\u001b[1;33m                             sock = socket.create_connection(\n\u001b[0m\u001b[0;32m    614\u001b[0m                                 \u001b[1;33m(\u001b[0m\u001b[0mself\u001b[0m\u001b[1;33m.\u001b[0m\u001b[0mhost\u001b[0m\u001b[1;33m,\u001b[0m \u001b[0mself\u001b[0m\u001b[1;33m.\u001b[0m\u001b[0mport\u001b[0m\u001b[1;33m)\u001b[0m\u001b[1;33m,\u001b[0m \u001b[0mself\u001b[0m\u001b[1;33m.\u001b[0m\u001b[0mconnect_timeout\u001b[0m\u001b[1;33m,\u001b[0m \u001b[1;33m**\u001b[0m\u001b[0mkwargs\u001b[0m\u001b[1;33m\u001b[0m\u001b[1;33m\u001b[0m\u001b[0m\n",
      "\u001b[1;32mc:\\users\\user\\miniconda3\\lib\\socket.py\u001b[0m in \u001b[0;36mcreate_connection\u001b[1;34m(address, timeout, source_address)\u001b[0m\n\u001b[0;32m    807\u001b[0m         \u001b[1;32mtry\u001b[0m\u001b[1;33m:\u001b[0m\u001b[1;33m\u001b[0m\u001b[1;33m\u001b[0m\u001b[0m\n\u001b[1;32m--> 808\u001b[1;33m             \u001b[1;32mraise\u001b[0m \u001b[0merr\u001b[0m\u001b[1;33m\u001b[0m\u001b[1;33m\u001b[0m\u001b[0m\n\u001b[0m\u001b[0;32m    809\u001b[0m         \u001b[1;32mfinally\u001b[0m\u001b[1;33m:\u001b[0m\u001b[1;33m\u001b[0m\u001b[1;33m\u001b[0m\u001b[0m\n",
      "\u001b[1;32mc:\\users\\user\\miniconda3\\lib\\socket.py\u001b[0m in \u001b[0;36mcreate_connection\u001b[1;34m(address, timeout, source_address)\u001b[0m\n\u001b[0;32m    795\u001b[0m                 \u001b[0msock\u001b[0m\u001b[1;33m.\u001b[0m\u001b[0mbind\u001b[0m\u001b[1;33m(\u001b[0m\u001b[0msource_address\u001b[0m\u001b[1;33m)\u001b[0m\u001b[1;33m\u001b[0m\u001b[1;33m\u001b[0m\u001b[0m\n\u001b[1;32m--> 796\u001b[1;33m             \u001b[0msock\u001b[0m\u001b[1;33m.\u001b[0m\u001b[0mconnect\u001b[0m\u001b[1;33m(\u001b[0m\u001b[0msa\u001b[0m\u001b[1;33m)\u001b[0m\u001b[1;33m\u001b[0m\u001b[1;33m\u001b[0m\u001b[0m\n\u001b[0m\u001b[0;32m    797\u001b[0m             \u001b[1;31m# Break explicitly a reference cycle\u001b[0m\u001b[1;33m\u001b[0m\u001b[1;33m\u001b[0m\u001b[1;33m\u001b[0m\u001b[0m\n",
      "\u001b[1;31mConnectionRefusedError\u001b[0m: [WinError 10061] No connection could be made because the target machine actively refused it",
      "\nDuring handling of the above exception, another exception occurred:\n",
      "\u001b[1;31mOperationalError\u001b[0m                          Traceback (most recent call last)",
      "\u001b[1;32m<ipython-input-10-6d7f76927ebb>\u001b[0m in \u001b[0;36m<module>\u001b[1;34m\u001b[0m\n\u001b[0;32m      2\u001b[0m \u001b[1;33m\u001b[0m\u001b[0m\n\u001b[0;32m      3\u001b[0m \u001b[1;31m# Connect to the database\u001b[0m\u001b[1;33m\u001b[0m\u001b[1;33m\u001b[0m\u001b[1;33m\u001b[0m\u001b[0m\n\u001b[1;32m----> 4\u001b[1;33m connection = pymysql.connect(host='localhost',#host='192.168.68.101',\n\u001b[0m\u001b[0;32m      5\u001b[0m                              \u001b[0muser\u001b[0m\u001b[1;33m=\u001b[0m\u001b[1;34m'edwin'\u001b[0m\u001b[1;33m,\u001b[0m\u001b[1;33m\u001b[0m\u001b[1;33m\u001b[0m\u001b[0m\n\u001b[0;32m      6\u001b[0m                              \u001b[0mpassword\u001b[0m\u001b[1;33m=\u001b[0m\u001b[1;34m'edwin'\u001b[0m\u001b[1;33m,\u001b[0m\u001b[1;33m\u001b[0m\u001b[1;33m\u001b[0m\u001b[0m\n",
      "\u001b[1;32mc:\\users\\user\\miniconda3\\lib\\site-packages\\pymysql\\connections.py\u001b[0m in \u001b[0;36m__init__\u001b[1;34m(self, user, password, host, database, unix_socket, port, charset, sql_mode, read_default_file, conv, use_unicode, client_flag, cursorclass, init_command, connect_timeout, read_default_group, autocommit, local_infile, max_allowed_packet, defer_connect, auth_plugin_map, read_timeout, write_timeout, bind_address, binary_prefix, program_name, server_public_key, ssl, ssl_ca, ssl_cert, ssl_disabled, ssl_key, ssl_verify_cert, ssl_verify_identity, compress, named_pipe, passwd, db)\u001b[0m\n\u001b[0;32m    351\u001b[0m             \u001b[0mself\u001b[0m\u001b[1;33m.\u001b[0m\u001b[0m_sock\u001b[0m \u001b[1;33m=\u001b[0m \u001b[1;32mNone\u001b[0m\u001b[1;33m\u001b[0m\u001b[1;33m\u001b[0m\u001b[0m\n\u001b[0;32m    352\u001b[0m         \u001b[1;32melse\u001b[0m\u001b[1;33m:\u001b[0m\u001b[1;33m\u001b[0m\u001b[1;33m\u001b[0m\u001b[0m\n\u001b[1;32m--> 353\u001b[1;33m             \u001b[0mself\u001b[0m\u001b[1;33m.\u001b[0m\u001b[0mconnect\u001b[0m\u001b[1;33m(\u001b[0m\u001b[1;33m)\u001b[0m\u001b[1;33m\u001b[0m\u001b[1;33m\u001b[0m\u001b[0m\n\u001b[0m\u001b[0;32m    354\u001b[0m \u001b[1;33m\u001b[0m\u001b[0m\n\u001b[0;32m    355\u001b[0m     \u001b[1;32mdef\u001b[0m \u001b[0m__enter__\u001b[0m\u001b[1;33m(\u001b[0m\u001b[0mself\u001b[0m\u001b[1;33m)\u001b[0m\u001b[1;33m:\u001b[0m\u001b[1;33m\u001b[0m\u001b[1;33m\u001b[0m\u001b[0m\n",
      "\u001b[1;32mc:\\users\\user\\miniconda3\\lib\\site-packages\\pymysql\\connections.py\u001b[0m in \u001b[0;36mconnect\u001b[1;34m(self, sock)\u001b[0m\n\u001b[0;32m    662\u001b[0m                 \u001b[1;32mif\u001b[0m \u001b[0mDEBUG\u001b[0m\u001b[1;33m:\u001b[0m\u001b[1;33m\u001b[0m\u001b[1;33m\u001b[0m\u001b[0m\n\u001b[0;32m    663\u001b[0m                     \u001b[0mprint\u001b[0m\u001b[1;33m(\u001b[0m\u001b[0mexc\u001b[0m\u001b[1;33m.\u001b[0m\u001b[0mtraceback\u001b[0m\u001b[1;33m)\u001b[0m\u001b[1;33m\u001b[0m\u001b[1;33m\u001b[0m\u001b[0m\n\u001b[1;32m--> 664\u001b[1;33m                 \u001b[1;32mraise\u001b[0m \u001b[0mexc\u001b[0m\u001b[1;33m\u001b[0m\u001b[1;33m\u001b[0m\u001b[0m\n\u001b[0m\u001b[0;32m    665\u001b[0m \u001b[1;33m\u001b[0m\u001b[0m\n\u001b[0;32m    666\u001b[0m             \u001b[1;31m# If e is neither DatabaseError or IOError, It's a bug.\u001b[0m\u001b[1;33m\u001b[0m\u001b[1;33m\u001b[0m\u001b[1;33m\u001b[0m\u001b[0m\n",
      "\u001b[1;31mOperationalError\u001b[0m: (2003, \"Can't connect to MySQL server on 'localhost' ([WinError 10061] No connection could be made because the target machine actively refused it)\")"
     ]
    }
   ],
   "source": [
    "import pymysql.cursors\n",
    "\n",
    "# Connect to the database\n",
    "connection = pymysql.connect(host='localhost',#host='192.168.68.101',\n",
    "                             user='edwin',\n",
    "                             password='edwin',\n",
    "                             database='charles',\n",
    "                             cursorclass=pymysql.cursors.DictCursor)\n"
   ]
  },
  {
   "cell_type": "code",
   "execution_count": null,
   "metadata": {},
   "outputs": [],
   "source": []
  }
 ],
 "metadata": {
  "kernelspec": {
   "display_name": "Python 3",
   "language": "python",
   "name": "python3"
  },
  "language_info": {
   "codemirror_mode": {
    "name": "ipython",
    "version": 3
   },
   "file_extension": ".py",
   "mimetype": "text/x-python",
   "name": "python",
   "nbconvert_exporter": "python",
   "pygments_lexer": "ipython3",
   "version": "3.8.5"
  }
 },
 "nbformat": 4,
 "nbformat_minor": 4
}

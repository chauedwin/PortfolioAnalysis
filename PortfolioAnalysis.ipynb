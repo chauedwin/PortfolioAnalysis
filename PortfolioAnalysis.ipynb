{
 "cells": [
  {
   "cell_type": "markdown",
   "metadata": {},
   "source": [
    "# Portfolio Analysis with Statistics"
   ]
  },
  {
   "cell_type": "markdown",
   "metadata": {},
   "source": [
    "To access stock data, we will use the [yfinance library](https://github.com/ranaroussi/yfinance). We first download the historical monthly stock prices for the chosen stocks/tickers(slightly modifying the code in the library tutorial). The data comes in the form of a pandas dataframe with multi-level headers, so we also unstack the levels for simpler access."
   ]
  },
  {
   "cell_type": "code",
   "execution_count": 63,
   "metadata": {},
   "outputs": [
    {
     "name": "stdout",
     "output_type": "stream",
     "text": [
      "[*********************100%***********************]  6 of 6 completed\n"
     ]
    }
   ],
   "source": [
    "import yfinance as yf\n",
    "import numpy as np\n",
    "import scipy.stats as stats\n",
    "import pandas as pd\n",
    "ticks = [\"AMD\", \"GE\", \"MSFT\", \"PILL\", \"TQQQ\", \"XLV\"]\n",
    "data = yf.download(tickers = ticks, interval = \"1mo\", group_by = 'ticker', auto_adjust = True, threads = True)"
   ]
  },
  {
   "cell_type": "code",
   "execution_count": 64,
   "metadata": {},
   "outputs": [
    {
     "name": "stdout",
     "output_type": "stream",
     "text": [
      "[*********************100%***********************]  1 of 1 completed\n"
     ]
    }
   ],
   "source": [
    "sp500_raw = yf.download(tickers = \"^GSPC\", interval = \"1mo\", group_by = 'ticker', auto_adjust = True, threads = True)"
   ]
  },
  {
   "cell_type": "code",
   "execution_count": 65,
   "metadata": {},
   "outputs": [
    {
     "data": {
      "text/html": [
       "<div>\n",
       "<style scoped>\n",
       "    .dataframe tbody tr th:only-of-type {\n",
       "        vertical-align: middle;\n",
       "    }\n",
       "\n",
       "    .dataframe tbody tr th {\n",
       "        vertical-align: top;\n",
       "    }\n",
       "\n",
       "    .dataframe thead th {\n",
       "        text-align: right;\n",
       "    }\n",
       "</style>\n",
       "<table border=\"1\" class=\"dataframe\">\n",
       "  <thead>\n",
       "    <tr style=\"text-align: right;\">\n",
       "      <th></th>\n",
       "      <th>Ticker</th>\n",
       "      <th>Close</th>\n",
       "      <th>High</th>\n",
       "      <th>Low</th>\n",
       "      <th>Open</th>\n",
       "      <th>Volume</th>\n",
       "    </tr>\n",
       "    <tr>\n",
       "      <th>Date</th>\n",
       "      <th></th>\n",
       "      <th></th>\n",
       "      <th></th>\n",
       "      <th></th>\n",
       "      <th></th>\n",
       "      <th></th>\n",
       "    </tr>\n",
       "  </thead>\n",
       "  <tbody>\n",
       "    <tr>\n",
       "      <th>2021-06-01</th>\n",
       "      <td>MSFT</td>\n",
       "      <td>265.019989</td>\n",
       "      <td>267.850006</td>\n",
       "      <td>243.000000</td>\n",
       "      <td>251.229996</td>\n",
       "      <td>447269400.0</td>\n",
       "    </tr>\n",
       "    <tr>\n",
       "      <th>2021-06-01</th>\n",
       "      <td>PILL</td>\n",
       "      <td>24.889999</td>\n",
       "      <td>25.799999</td>\n",
       "      <td>21.160000</td>\n",
       "      <td>22.400000</td>\n",
       "      <td>832800.0</td>\n",
       "    </tr>\n",
       "    <tr>\n",
       "      <th>2021-06-01</th>\n",
       "      <td>TQQQ</td>\n",
       "      <td>117.510002</td>\n",
       "      <td>119.489998</td>\n",
       "      <td>97.379997</td>\n",
       "      <td>103.849998</td>\n",
       "      <td>482349500.0</td>\n",
       "    </tr>\n",
       "    <tr>\n",
       "      <th>2021-06-01</th>\n",
       "      <td>XLV</td>\n",
       "      <td>125.211380</td>\n",
       "      <td>125.589908</td>\n",
       "      <td>120.141169</td>\n",
       "      <td>123.268963</td>\n",
       "      <td>175766000.0</td>\n",
       "    </tr>\n",
       "    <tr>\n",
       "      <th>2021-06-28</th>\n",
       "      <td>AMD</td>\n",
       "      <td>87.080002</td>\n",
       "      <td>88.000000</td>\n",
       "      <td>86.150002</td>\n",
       "      <td>86.379997</td>\n",
       "      <td>29748371.0</td>\n",
       "    </tr>\n",
       "    <tr>\n",
       "      <th>2021-06-28</th>\n",
       "      <td>GE</td>\n",
       "      <td>12.890000</td>\n",
       "      <td>13.160000</td>\n",
       "      <td>12.790000</td>\n",
       "      <td>13.160000</td>\n",
       "      <td>52940032.0</td>\n",
       "    </tr>\n",
       "    <tr>\n",
       "      <th>2021-06-28</th>\n",
       "      <td>MSFT</td>\n",
       "      <td>268.720001</td>\n",
       "      <td>268.899994</td>\n",
       "      <td>265.959991</td>\n",
       "      <td>266.184998</td>\n",
       "      <td>18592255.0</td>\n",
       "    </tr>\n",
       "    <tr>\n",
       "      <th>2021-06-28</th>\n",
       "      <td>PILL</td>\n",
       "      <td>24.980000</td>\n",
       "      <td>25.230000</td>\n",
       "      <td>24.775000</td>\n",
       "      <td>25.230000</td>\n",
       "      <td>8524.0</td>\n",
       "    </tr>\n",
       "    <tr>\n",
       "      <th>2021-06-28</th>\n",
       "      <td>TQQQ</td>\n",
       "      <td>121.669998</td>\n",
       "      <td>121.879997</td>\n",
       "      <td>118.750000</td>\n",
       "      <td>118.769997</td>\n",
       "      <td>22050626.0</td>\n",
       "    </tr>\n",
       "    <tr>\n",
       "      <th>2021-06-28</th>\n",
       "      <td>XLV</td>\n",
       "      <td>125.889999</td>\n",
       "      <td>126.050003</td>\n",
       "      <td>125.410004</td>\n",
       "      <td>125.830002</td>\n",
       "      <td>4610634.0</td>\n",
       "    </tr>\n",
       "  </tbody>\n",
       "</table>\n",
       "</div>"
      ],
      "text/plain": [
       "           Ticker       Close        High         Low        Open       Volume\n",
       "Date                                                                          \n",
       "2021-06-01   MSFT  265.019989  267.850006  243.000000  251.229996  447269400.0\n",
       "2021-06-01   PILL   24.889999   25.799999   21.160000   22.400000     832800.0\n",
       "2021-06-01   TQQQ  117.510002  119.489998   97.379997  103.849998  482349500.0\n",
       "2021-06-01    XLV  125.211380  125.589908  120.141169  123.268963  175766000.0\n",
       "2021-06-28    AMD   87.080002   88.000000   86.150002   86.379997   29748371.0\n",
       "2021-06-28     GE   12.890000   13.160000   12.790000   13.160000   52940032.0\n",
       "2021-06-28   MSFT  268.720001  268.899994  265.959991  266.184998   18592255.0\n",
       "2021-06-28   PILL   24.980000   25.230000   24.775000   25.230000       8524.0\n",
       "2021-06-28   TQQQ  121.669998  121.879997  118.750000  118.769997   22050626.0\n",
       "2021-06-28    XLV  125.889999  126.050003  125.410004  125.830002    4610634.0"
      ]
     },
     "execution_count": 65,
     "metadata": {},
     "output_type": "execute_result"
    }
   ],
   "source": [
    "# unstack\n",
    "stocks_raw = data.stack(level=0).rename_axis(['Date', 'Ticker']).reset_index(level=1)\n",
    "stocks_raw = stocks_raw.sort_values(by=['Date', 'Ticker'])\n",
    "stocks_raw.tail(10)"
   ]
  },
  {
   "cell_type": "markdown",
   "metadata": {},
   "source": [
    "Since we only want one stock price per month, we filter out the last row of each asset if it does not fall on the first day of the month. We also only keep the last 5 years of data to maintain an accurate representation of each company's relevant returns(profitability in the 1990s does not entail profitability in 2020s). Because we require the previous month's price to compute the current month's return, we need to keep an extra month(a total of 61 months)"
   ]
  },
  {
   "cell_type": "code",
   "execution_count": 66,
   "metadata": {},
   "outputs": [
    {
     "data": {
      "text/html": [
       "<div>\n",
       "<style scoped>\n",
       "    .dataframe tbody tr th:only-of-type {\n",
       "        vertical-align: middle;\n",
       "    }\n",
       "\n",
       "    .dataframe tbody tr th {\n",
       "        vertical-align: top;\n",
       "    }\n",
       "\n",
       "    .dataframe thead th {\n",
       "        text-align: right;\n",
       "    }\n",
       "</style>\n",
       "<table border=\"1\" class=\"dataframe\">\n",
       "  <thead>\n",
       "    <tr style=\"text-align: right;\">\n",
       "      <th></th>\n",
       "      <th>Ticker</th>\n",
       "      <th>Close</th>\n",
       "      <th>High</th>\n",
       "      <th>Low</th>\n",
       "      <th>Open</th>\n",
       "      <th>Volume</th>\n",
       "    </tr>\n",
       "    <tr>\n",
       "      <th>Date</th>\n",
       "      <th></th>\n",
       "      <th></th>\n",
       "      <th></th>\n",
       "      <th></th>\n",
       "      <th></th>\n",
       "      <th></th>\n",
       "    </tr>\n",
       "  </thead>\n",
       "  <tbody>\n",
       "    <tr>\n",
       "      <th>2016-05-01</th>\n",
       "      <td>AMD</td>\n",
       "      <td>4.570000</td>\n",
       "      <td>4.710000</td>\n",
       "      <td>3.450000</td>\n",
       "      <td>3.580000</td>\n",
       "      <td>394438600.0</td>\n",
       "    </tr>\n",
       "    <tr>\n",
       "      <th>2016-05-01</th>\n",
       "      <td>GE</td>\n",
       "      <td>26.446421</td>\n",
       "      <td>27.111298</td>\n",
       "      <td>25.422858</td>\n",
       "      <td>26.805104</td>\n",
       "      <td>633509240.0</td>\n",
       "    </tr>\n",
       "    <tr>\n",
       "      <th>2016-05-01</th>\n",
       "      <td>MSFT</td>\n",
       "      <td>48.487541</td>\n",
       "      <td>48.487541</td>\n",
       "      <td>45.248939</td>\n",
       "      <td>45.742963</td>\n",
       "      <td>530704800.0</td>\n",
       "    </tr>\n",
       "    <tr>\n",
       "      <th>2016-05-01</th>\n",
       "      <td>TQQQ</td>\n",
       "      <td>8.690357</td>\n",
       "      <td>8.731107</td>\n",
       "      <td>7.397199</td>\n",
       "      <td>7.749803</td>\n",
       "      <td>759457200.0</td>\n",
       "    </tr>\n",
       "    <tr>\n",
       "      <th>2016-05-01</th>\n",
       "      <td>XLV</td>\n",
       "      <td>65.184143</td>\n",
       "      <td>65.339450</td>\n",
       "      <td>62.680928</td>\n",
       "      <td>63.877719</td>\n",
       "      <td>211005900.0</td>\n",
       "    </tr>\n",
       "  </tbody>\n",
       "</table>\n",
       "</div>"
      ],
      "text/plain": [
       "           Ticker      Close       High        Low       Open       Volume\n",
       "Date                                                                      \n",
       "2016-05-01    AMD   4.570000   4.710000   3.450000   3.580000  394438600.0\n",
       "2016-05-01     GE  26.446421  27.111298  25.422858  26.805104  633509240.0\n",
       "2016-05-01   MSFT  48.487541  48.487541  45.248939  45.742963  530704800.0\n",
       "2016-05-01   TQQQ   8.690357   8.731107   7.397199   7.749803  759457200.0\n",
       "2016-05-01    XLV  65.184143  65.339450  62.680928  63.877719  211005900.0"
      ]
     },
     "execution_count": 66,
     "metadata": {},
     "output_type": "execute_result"
    }
   ],
   "source": [
    "recent = stocks_raw.index[-1] - pd.DateOffset(day = 1)\n",
    "begin = recent - pd.DateOffset(years = 5) - pd.DateOffset(months = 1)\n",
    "stocks = stocks_raw.loc[(stocks_raw.index <= recent) & (stocks_raw.index >= begin)].copy()\n",
    "sp500 = sp500_raw.loc[(sp500_raw.index <= recent) & (sp500_raw.index >= begin)].copy()\n",
    "stocks.head()"
   ]
  },
  {
   "cell_type": "markdown",
   "metadata": {},
   "source": [
    "To compute the (percent) return of a specified observation, we subtract the current price with last month's price and divide by last month's price. We can easily vectorize this by subtracting an array of the (open) prices without the last observation from an array of the (open) prices without the first observation. We then divide by the former.  "
   ]
  },
  {
   "cell_type": "code",
   "execution_count": 67,
   "metadata": {},
   "outputs": [],
   "source": [
    "for t in ticks:\n",
    "    # turn into np array to avoid indexing issues\n",
    "    nofirst = np.array(stocks.loc[stocks['Ticker'] == t, 'Open'].iloc[1:])\n",
    "    nolast = np.array(stocks.loc[stocks['Ticker'] == t, 'Open'].iloc[:len(stocks.loc[stocks['Ticker'] == t]) - 1])\n",
    "    # add back index before assignment\n",
    "    stocks.loc[stocks['Ticker'] == t, 'PercReturns'] = pd.Series((nofirst - nolast) / nolast, index = stocks.loc[stocks['Ticker'] == t, 'Open'].iloc[1:].index)\n",
    "\n",
    "spnofirst = np.array(sp500['Open'].iloc[1:])\n",
    "spnolast = np.array(sp500['Open'].iloc[:len(sp500) - 1])\n",
    "spreturns = (spnofirst - spnolast) / spnolast"
   ]
  },
  {
   "cell_type": "markdown",
   "metadata": {},
   "source": [
    "To make calculating parameters easier, we can pivot the dataframe such that each ticker's percent returns form individual columns. Note that we need to mask the data matrix to ignore NaN values. "
   ]
  },
  {
   "cell_type": "code",
   "execution_count": 93,
   "metadata": {},
   "outputs": [],
   "source": [
    "stockpivot = stocks.pivot(columns = 'Ticker', values = 'PercReturns').iloc[1:]\n",
    "returnarr = stockpivot.to_numpy()\n",
    "# mask to ignore NaN for relatively new stocks\n",
    "returnmean = np.ma.masked_invalid(returnarr).mean(axis = 0).data\n",
    "#returncov = np.ma.cov(np.ma.masked_invalid(returnarr), rowvar = False).data\n",
    "#invcov = np.linalg.lstsq(a = returncov, b = np.eye(len(ticks)), rcond = None)[0]"
   ]
  },
  {
   "cell_type": "code",
   "execution_count": 112,
   "metadata": {},
   "outputs": [
    {
     "ename": "ValueError",
     "evalue": "operands could not be broadcast together with shapes (42,) (61,) ",
     "output_type": "error",
     "traceback": [
      "\u001b[1;31m---------------------------------------------------------------------------\u001b[0m",
      "\u001b[1;31mValueError\u001b[0m                                Traceback (most recent call last)",
      "\u001b[1;32m<ipython-input-112-31e64efd7261>\u001b[0m in \u001b[0;36m<module>\u001b[1;34m\u001b[0m\n\u001b[0;32m      6\u001b[0m     \u001b[0mtnonan\u001b[0m \u001b[1;33m=\u001b[0m \u001b[0mtreturn\u001b[0m\u001b[1;33m[\u001b[0m\u001b[0mnp\u001b[0m\u001b[1;33m.\u001b[0m\u001b[0mlogical_not\u001b[0m\u001b[1;33m(\u001b[0m\u001b[0mnp\u001b[0m\u001b[1;33m.\u001b[0m\u001b[0misnan\u001b[0m\u001b[1;33m(\u001b[0m\u001b[0mtreturn\u001b[0m\u001b[1;33m)\u001b[0m\u001b[1;33m)\u001b[0m\u001b[1;33m]\u001b[0m\u001b[1;33m\u001b[0m\u001b[1;33m\u001b[0m\u001b[0m\n\u001b[0;32m      7\u001b[0m     \u001b[0mbetas\u001b[0m\u001b[1;33m[\u001b[0m\u001b[0mi\u001b[0m\u001b[1;33m]\u001b[0m\u001b[1;33m,\u001b[0m \u001b[0malphas\u001b[0m\u001b[1;33m[\u001b[0m\u001b[0mi\u001b[0m\u001b[1;33m]\u001b[0m\u001b[1;33m,\u001b[0m \u001b[0mr\u001b[0m\u001b[1;33m,\u001b[0m \u001b[0mp\u001b[0m\u001b[1;33m,\u001b[0m \u001b[0mse\u001b[0m \u001b[1;33m=\u001b[0m \u001b[0mstats\u001b[0m\u001b[1;33m.\u001b[0m\u001b[0mlinregress\u001b[0m\u001b[1;33m(\u001b[0m\u001b[0mspreturns\u001b[0m\u001b[1;33m[\u001b[0m\u001b[1;33m(\u001b[0m\u001b[0mlen\u001b[0m\u001b[1;33m(\u001b[0m\u001b[0mspreturns\u001b[0m\u001b[1;33m)\u001b[0m \u001b[1;33m-\u001b[0m \u001b[0mlen\u001b[0m\u001b[1;33m(\u001b[0m\u001b[0mtnonan\u001b[0m\u001b[1;33m)\u001b[0m\u001b[1;33m)\u001b[0m\u001b[1;33m:\u001b[0m\u001b[1;33m]\u001b[0m\u001b[1;33m,\u001b[0m \u001b[0mtnonan\u001b[0m\u001b[1;33m)\u001b[0m\u001b[1;33m\u001b[0m\u001b[1;33m\u001b[0m\u001b[0m\n\u001b[1;32m----> 8\u001b[1;33m     \u001b[0munsyserr\u001b[0m\u001b[1;33m[\u001b[0m\u001b[0mi\u001b[0m\u001b[1;33m]\u001b[0m \u001b[1;33m=\u001b[0m \u001b[0mnp\u001b[0m\u001b[1;33m.\u001b[0m\u001b[0msum\u001b[0m\u001b[1;33m(\u001b[0m\u001b[1;33m(\u001b[0m\u001b[0mtnonan\u001b[0m \u001b[1;33m-\u001b[0m \u001b[0malphas\u001b[0m\u001b[1;33m[\u001b[0m\u001b[0mi\u001b[0m\u001b[1;33m]\u001b[0m \u001b[1;33m-\u001b[0m \u001b[0mbetas\u001b[0m\u001b[1;33m[\u001b[0m\u001b[0mi\u001b[0m\u001b[1;33m]\u001b[0m\u001b[1;33m*\u001b[0m\u001b[0mspreturns\u001b[0m\u001b[1;33m)\u001b[0m\u001b[1;33m**\u001b[0m\u001b[1;36m2\u001b[0m\u001b[1;33m)\u001b[0m \u001b[1;33m/\u001b[0m \u001b[1;33m(\u001b[0m\u001b[0mlen\u001b[0m\u001b[1;33m(\u001b[0m\u001b[0mspreturns\u001b[0m\u001b[1;33m)\u001b[0m \u001b[1;33m-\u001b[0m \u001b[1;36m2\u001b[0m\u001b[1;33m)\u001b[0m\u001b[1;33m\u001b[0m\u001b[1;33m\u001b[0m\u001b[0m\n\u001b[0m",
      "\u001b[1;31mValueError\u001b[0m: operands could not be broadcast together with shapes (42,) (61,) "
     ]
    }
   ],
   "source": [
    "betas = np.zeros(len(ticks))\n",
    "alphas = np.zeros(len(ticks))\n",
    "unsyserr = np.zeros(len(ticks))\n",
    "for i in np.arange(len(ticks)):\n",
    "    treturn = returnarr[:,i]\n",
    "    tnonan = treturn[np.logical_not(np.isnan(treturn))]\n",
    "    spmatch = \n",
    "    betas[i], alphas[i], r, p, se = stats.linregress(spreturns[(len(spreturns) - len(tnonan)):], tnonan)\n",
    "    unsyserr[i] = np.sum((returnarr[:,i] - alphas[i] - betas[i]*spreturns)**2) / (len(spreturns) - 2)"
   ]
  },
  {
   "cell_type": "code",
   "execution_count": 107,
   "metadata": {},
   "outputs": [],
   "source": [
    "simdf = pd.DataFrame(data = {'alpha': alphas, 'beta': betas, 'eps': unsyserr, 'rmean': returnmean}, index = stockpivot.columns.values)\n",
    "simdf['excess'] = simdf['rmean'] / simdf['beta']\n",
    "simdf = simdf.sort_values(by=['excess'], ascending = False)"
   ]
  },
  {
   "cell_type": "code",
   "execution_count": 108,
   "metadata": {},
   "outputs": [],
   "source": [
    "num = simdf['rmean'] * simdf['beta'] / simdf['eps']\n",
    "den = simdf['beta']**2 / simdf['eps']\n",
    "simdf['C'] = spreturns.var() * num.cumsum() / (1 + spreturns.var() * den.cumsum())"
   ]
  },
  {
   "cell_type": "code",
   "execution_count": 109,
   "metadata": {},
   "outputs": [],
   "source": [
    "cutoff = simdf.loc[simdf['C'] < simdf['excess']]"
   ]
  },
  {
   "cell_type": "code",
   "execution_count": 110,
   "metadata": {},
   "outputs": [
    {
     "data": {
      "text/plain": [
       "MSFT    0.915554\n",
       "AMD     0.084446\n",
       "dtype: float64"
      ]
     },
     "execution_count": 110,
     "metadata": {},
     "output_type": "execute_result"
    }
   ],
   "source": [
    "z = (cutoff['beta'] / cutoff['eps']) * (cutoff['excess'] - cutoff['C'])\n",
    "z / z.sum()"
   ]
  },
  {
   "cell_type": "code",
   "execution_count": 111,
   "metadata": {},
   "outputs": [
    {
     "data": {
      "text/html": [
       "<div>\n",
       "<style scoped>\n",
       "    .dataframe tbody tr th:only-of-type {\n",
       "        vertical-align: middle;\n",
       "    }\n",
       "\n",
       "    .dataframe tbody tr th {\n",
       "        vertical-align: top;\n",
       "    }\n",
       "\n",
       "    .dataframe thead th {\n",
       "        text-align: right;\n",
       "    }\n",
       "</style>\n",
       "<table border=\"1\" class=\"dataframe\">\n",
       "  <thead>\n",
       "    <tr style=\"text-align: right;\">\n",
       "      <th></th>\n",
       "      <th>alpha</th>\n",
       "      <th>beta</th>\n",
       "      <th>eps</th>\n",
       "      <th>rmean</th>\n",
       "      <th>excess</th>\n",
       "      <th>C</th>\n",
       "    </tr>\n",
       "  </thead>\n",
       "  <tbody>\n",
       "    <tr>\n",
       "      <th>MSFT</th>\n",
       "      <td>0.019163</td>\n",
       "      <td>0.806234</td>\n",
       "      <td>0.001098</td>\n",
       "      <td>0.029551</td>\n",
       "      <td>0.036653</td>\n",
       "      <td>0.020822</td>\n",
       "    </tr>\n",
       "    <tr>\n",
       "      <th>AMD</th>\n",
       "      <td>0.040550</td>\n",
       "      <td>1.936114</td>\n",
       "      <td>0.019882</td>\n",
       "      <td>0.065494</td>\n",
       "      <td>0.033828</td>\n",
       "      <td>0.022814</td>\n",
       "    </tr>\n",
       "    <tr>\n",
       "      <th>TQQQ</th>\n",
       "      <td>0.015375</td>\n",
       "      <td>3.314037</td>\n",
       "      <td>0.003876</td>\n",
       "      <td>0.058072</td>\n",
       "      <td>0.017523</td>\n",
       "      <td>0.019125</td>\n",
       "    </tr>\n",
       "    <tr>\n",
       "      <th>XLV</th>\n",
       "      <td>0.001822</td>\n",
       "      <td>0.771605</td>\n",
       "      <td>0.000569</td>\n",
       "      <td>0.011763</td>\n",
       "      <td>0.015245</td>\n",
       "      <td>0.018331</td>\n",
       "    </tr>\n",
       "    <tr>\n",
       "      <th>PILL</th>\n",
       "      <td>-0.019008</td>\n",
       "      <td>2.904259</td>\n",
       "      <td>NaN</td>\n",
       "      <td>0.018033</td>\n",
       "      <td>0.006209</td>\n",
       "      <td>NaN</td>\n",
       "    </tr>\n",
       "    <tr>\n",
       "      <th>GE</th>\n",
       "      <td>-0.018372</td>\n",
       "      <td>1.161444</td>\n",
       "      <td>0.011282</td>\n",
       "      <td>-0.003408</td>\n",
       "      <td>-0.002934</td>\n",
       "      <td>0.017845</td>\n",
       "    </tr>\n",
       "  </tbody>\n",
       "</table>\n",
       "</div>"
      ],
      "text/plain": [
       "         alpha      beta       eps     rmean    excess         C\n",
       "MSFT  0.019163  0.806234  0.001098  0.029551  0.036653  0.020822\n",
       "AMD   0.040550  1.936114  0.019882  0.065494  0.033828  0.022814\n",
       "TQQQ  0.015375  3.314037  0.003876  0.058072  0.017523  0.019125\n",
       "XLV   0.001822  0.771605  0.000569  0.011763  0.015245  0.018331\n",
       "PILL -0.019008  2.904259       NaN  0.018033  0.006209       NaN\n",
       "GE   -0.018372  1.161444  0.011282 -0.003408 -0.002934  0.017845"
      ]
     },
     "execution_count": 111,
     "metadata": {},
     "output_type": "execute_result"
    }
   ],
   "source": [
    "simdf"
   ]
  }
 ],
 "metadata": {
  "kernelspec": {
   "display_name": "Python 3",
   "language": "python",
   "name": "python3"
  },
  "language_info": {
   "codemirror_mode": {
    "name": "ipython",
    "version": 3
   },
   "file_extension": ".py",
   "mimetype": "text/x-python",
   "name": "python",
   "nbconvert_exporter": "python",
   "pygments_lexer": "ipython3",
   "version": "3.8.5"
  }
 },
 "nbformat": 4,
 "nbformat_minor": 4
}

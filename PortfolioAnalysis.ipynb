{
 "cells": [
  {
   "cell_type": "markdown",
   "metadata": {},
   "source": [
    "# Portfolio Analysis with Statistics"
   ]
  },
  {
   "cell_type": "markdown",
   "metadata": {},
   "source": [
    "The method this notebook uses aims to maximize the excess expected return of a portfolio over its volatility. The model and its derivations are based on the approach of [Elton et al.](https://onlinelibrary.wiley.com/doi/10.1111/j.1540-6261.1976.tb03217.x) It is motivated by the single index model, which we will first cover. "
   ]
  },
  {
   "cell_type": "markdown",
   "metadata": {},
   "source": [
    "## Single Index Model"
   ]
  },
  {
   "cell_type": "markdown",
   "metadata": {},
   "source": [
    "In short, the single index model(SIM) assumes that an asset's return is a dependent variable of the market's return, that is \n",
    "\n",
    "\\begin{align}\n",
    "R_i = \\alpha_i + \\beta_i R_m + \\epsilon_i, \\quad cov(R_m, \\epsilon_i) = 0, \\quad E(\\epsilon_i\\epsilon_j) = 0\n",
    "\\end{align}\n",
    "\n",
    "where $R_i$ is the return of the $i^{th}$ asset, $R_m$ is the return of the market, and $\\epsilon_i$ is random noise with mean $0$ and variance $\\sigma_{\\epsilon_i}^2$. The alpha of asset $i$, or $\\alpha_i$ represents the \"base\" return of that asset (independent of the market) while the beta, or $\\beta_i$, is the amount that asset changes for each unit of market change. Under this model, assets with positive betas follow the market, those with near-zero betas are largely unaffected by the market, and those with negative betas rise when the market falls. \n",
    "\n",
    "Additional notation includes variance of the return of a portfolio $\\sigma_p^2$ and variance of the return of the market $\\sigma_m^2$. Expected values will be represented by a bar, for instance, $\\overline{R}_m$ is the expected return of the market."
   ]
  },
  {
   "cell_type": "markdown",
   "metadata": {},
   "source": [
    "## Finding an optimal portfolio(without short sales)"
   ]
  },
  {
   "cell_type": "markdown",
   "metadata": {},
   "source": [
    "As stated before, this particular analysis aims to maximize the excess expected return of a portfolio over its volatility, or \n",
    "\n",
    "\\begin{align}\n",
    "\\theta = \\frac{\\overline{R}_p - R_f}{\\sigma_p^2}\n",
    "\\end{align}\n",
    "\n",
    "$\\overline{R}_p$ is the expected return of portfolio $p$, which can also be expressed as a weighted average of the expected returns of each asset in portfolio $p$, $\\displaystyle\\sum_{i=1}^{N} x_i\\overline{R}_i$. Also, $R_f$ is a risk-free rate of return, such as the interest rate of a savings account. In other words, we want the portfolio with the maximal ratio of return (over a risk-free rate) to variance/volatility. Portfolios with very high risk will be penalized as well as portfolios with too low a rate of return despite stability. "
   ]
  },
  {
   "cell_type": "markdown",
   "metadata": {},
   "source": [
    "Before differentiating and solving, however, we need to impose two additional constraints. First, each asset weight $x_i$ must be larger than or equal to 0 because we are not allowing short selling. Second, the sum of weights must total to 1, as it would not make sense otherwise. Altogether, we have the following optimization problem:\n",
    "\n",
    "\\begin{align}\n",
    "\\text{max}& \\quad \\theta = \\frac{\\overline{R}_p - R_f}{\\sigma_p^2} \\\\\n",
    "\\text{s.t.}& \\quad \\displaystyle\\sum_{i=1}^{N} x_i = 1 \\\\\n",
    "&\\quad x_i \\geq 0\n",
    "\\end{align}\n",
    "\n",
    "Setting aside the constraints, we can rewrite $\\theta$ in terms of $x_i$. First the numerator,\n",
    "\\begin{align}\n",
    "\\overline{R}_p - R_f &= \\displaystyle\\sum_{i=1}^{N} x_i \\overline{R}_i - R_f \\\\\n",
    "&= \\sum_{i=1}^{N} x_i \\overline{R}_i - \\sum_{i=1}^{N} x_i R_f \\\\\n",
    "&= \\sum_{i=1}^{N} x_i (\\overline{R}_i - R_f)\n",
    "\\end{align}\n",
    "\n",
    "We can rewrite $\\sigma_p^2$ by utilizing the historical covariances of the assets in the portfolio. Suppose $\\sigma_i^2$ is the variance of the $i^{th}$ asset and $\\sigma_{ij}$ is the covariance between the $i^{th}$ and $j^{th}$ assets. Then the variance of the portfolio is the weighted average of each $\\sigma_i^2$ and $\\sigma_{ij}$:\n",
    "\\begin{align}\n",
    "\\sigma_p^2 = \\displaystyle\\sum_{i=1}^N \\sum_{j=1}^N x_i x_j \\sigma_{ij} = \\sum_{i=1}^N x_i^2 \\sigma_i^2 + \\sum_{i=1}^N \\sum_{j=1, j\\neq i}^N x_i x_j \\sigma_{ij}\n",
    "\\end{align}\n",
    "\n",
    "Using the SIM model, we also have the following:\n",
    "\\begin{align}\n",
    "\\sigma_i^2 = var(R_i) &= var(\\alpha_i + \\beta_i R_m + \\epsilon_i) \\\\ \n",
    "&= var(\\beta_i R_m) + var(\\epsilon_i) + 2\\beta_i cov(R_m, \\epsilon_i) \\\\\n",
    "&= \\beta_i^2 \\sigma_m^2 + \\sigma_{\\epsilon_i}^2 \\\\\n",
    "\\sigma_{ij} = cov(R_i, R_j) &= cov(\\alpha_i + \\beta_i R_m + \\epsilon_i, \\alpha_j + \\beta_j R_m + \\epsilon_j) \\\\\n",
    "&= \\beta_i \\beta_j cov(R_m, R_m) + \\beta_i cov(R_m, \\epsilon_j) + \\beta_j cov(R_m, \\epsilon_i) + cov(\\epsilon_i, \\epsilon_j) \\\\\n",
    "&= \\beta_i \\beta_j \\sigma_m^2\n",
    "\\end{align}\n",
    "\n",
    "Plugging these two results into our expression for $\\sigma_p^2$, we get\n",
    "\\begin{align}\n",
    "\\sigma_p^2 &= \\displaystyle \\sum_{i=1}^N x_i^2 \\beta_i^2 \\sigma_m^2 + \\sum_{i=1}^N x_i^2 \\sigma_{\\epsilon_i} + \\sum_{i=1}^N \\sum_{j=1,j\\neq i}^N x_i x_j \\beta_i \\beta_j \\sigma_m^2 \\\\\n",
    "\\implies \\theta &= \\frac{\\displaystyle\\sum_{i=1}^{N} x_i (\\overline{R}_i - R_f)}{\\sqrt{\\displaystyle \\sum_{i=1}^N x_i^2 \\beta_i^2 \\sigma_m^2 + \\sum_{i=1}^N x_i^2 \\sigma_{\\epsilon_i} + \\sum_{i=1}^N \\sum_{j=1,j\\neq i}^N x_i x_j \\beta_i \\beta_j \\sigma_m^2}}\n",
    "\\end{align}"
   ]
  },
  {
   "cell_type": "markdown",
   "metadata": {},
   "source": [
    "Moving onto the optimizing, we can also notice that $\\theta$ is not only [homogenous](https://en.wikipedia.org/wiki/Homogeneous_function), but it is homogenous with degree 0. In other words, if we multiply each $x_i$ by a factor of $r$, this actually does not change the value of $\\theta$. Thus we can safely ignore the equality constraint(but must still consider the inequality/nonnegative constraints), and our Lagrangian is \n",
    "\\begin{align}\n",
    "\\mathcal{L} = \\frac{\\displaystyle\\sum_{i=1}^{N} x_i (\\overline{R}_i - R_f)}{\\sigma_p} + \\sum_{i=1}^N \\mu_i x_i\n",
    "\\end{align}\n",
    "\n",
    "Differentiating w.r.t $x_i$ and equating to zero(to avoid vector calculus), \n",
    "\\begin{align}\n",
    "\\frac{\\partial \\mathcal{L}}{\\partial x_i} &= \\frac{(\\overline{R}_i - R_f)\\sigma_p - \\frac{\\partial \\sigma_p}{\\partial x_i} \\cdot \\displaystyle\\sum_{i=1}^N x_i (R_i - R_f)}{\\sigma_p^2} = \\frac{\\overline{R}_i - R_f}{\\sigma_p} - \\frac{\\partial \\sigma_p}{\\partial x_i} \\cdot \\frac{\\displaystyle\\sum_{i=1}^N x_i (R_i - R_f)}{\\sigma_p^2} + \\mu_i\\\\\n",
    "\\frac{\\partial \\sigma_p}{\\partial x_i} &= \\frac{1}{2}\\left(\\displaystyle \\sum_{i=1}^N x_i^2 \\beta_i^2 \\sigma_m^2 + \\sum_{i=1}^N x_i^2 \\sigma_{\\epsilon_i} + \\sum_{i=1}^N \\sum_{j=1,j\\neq i}^N x_i x_j \\beta_i \\beta_j \\sigma_m^2\\right)^{-\\frac{1}{2}}\\left(2x_i\\beta_i^2 \\sigma_m^2 + 2x_i \\sigma_{\\epsilon_i}^2 + 2\\sum_{j=1,j\\neq i}^N x_j \\beta_i \\beta_j \\sigma_m^2\\right) \\\\\n",
    "&= \\frac{x_i\\beta_i^2 \\sigma_m^2 + x_i \\sigma_{\\epsilon_i}^2 + \\sum_{j=1,j\\neq i}^N x_j \\beta_i \\beta_j \\sigma_m^2}{\\sigma_p} \\\\\n",
    "\\implies \\frac{\\partial \\mathcal{L}}{\\partial x_i} &= \\frac{\\overline{R}_i - R_f}{\\sigma_p} - \\frac{\\displaystyle\\sum_{i=1}^N x_i (R_i - R_f)}{\\sigma_p^3} \\left(x_i\\beta_i^2 \\sigma_m^2 + x_i \\sigma_{\\epsilon_i}^2 + \\sum_{j=1,j\\neq i}^N x_j \\beta_i \\beta_j \\sigma_m^2\\right) + \\mu_i = 0 \\\\\n",
    "\\implies& \\frac{\\overline{R}_i - R_f}{\\sigma_p} - \\frac{\\displaystyle\\sum_{i=1}^N x_i (R_i - R_f)}{\\sigma_p^2} \\left(x_i\\beta_i^2 \\sigma_m^2 + x_i \\sigma_{\\epsilon_i}^2 + \\sum_{j=1,j\\neq i}^N x_j \\beta_i \\beta_j \\sigma_m^2\\right) + \\mu_i = 0 \\\\\n",
    "\\end{align}"
   ]
  },
  {
   "cell_type": "markdown",
   "metadata": {},
   "source": [
    "Now define $z_i = \\frac{\\overline{R}_i - R_f}{\\sigma_p^2} x_i$. Solving the above expression for $z_i$(and leaving out boring algebra) yields \n",
    "\n",
    "\\begin{align}\n",
    "z_i = \\frac{\\overline{R}_i - R_f}{\\sigma_{\\epsilon_i}^2} - \\frac{\\beta_i}{\\sigma_{\\epsilon_i}^2} \\sigma_m^2 \\displaystyle\\sum_{j=1}^N \\beta_j z_j + \\mu_i\n",
    "\\end{align}\n",
    "\n",
    "with the KKT conditions $z_i \\geq 0$, $\\mu_i \\geq 0$, $z_i \\mu_i \\geq 0$. Suppose we have already found the $k$ assets belonging in the optimal portfolio, and note that their corresponding $\\mu_1, \\ldots \\mu_k = 0$ in order to minimize the Lagrangian. The assets that are not part of this optimal portfolio have negative $z_i$'s, thus it is also true that \n",
    "\\begin{align}\n",
    "\\sum_{i=1}^N z_i \\mu_i = \\sum_{j=1}^k z_j \\mu_j\n",
    "\\end{align}"
   ]
  },
  {
   "cell_type": "markdown",
   "metadata": {},
   "source": [
    "Muliplying each $z_i$ by $\\beta_i$ and summing from $1$ to $k$(or equivalently to $N$), we have\n",
    "\\begin{align}\n",
    "&\\sum_{i=1}^k z_i \\beta_i = \\sum_{i=1}^k \\frac{\\overline{R}_i - R_f}{\\sigma_{\\epsilon_i}} \\beta_i - \\sum_{i=1}^k \\left(\\frac{\\beta_i}{\\sigma_{\\epsilon_i}} \\sigma_m^2 \\sum_{j=1}^k z_j \\beta_j\\right) \\beta_i \\\\\n",
    "\\implies &\\sum_{i=1}^k z_i \\beta_i + \\left(\\sum_{i=1}^k \\frac{\\beta_i}{\\sigma_{\\epsilon_i}} \\sigma_m^2\\right)\\left(\\sum_{j=1}^k z_j \\beta_j\\right) = \\sum_{i=1}^k \\frac{\\overline{R}_i - R_f}{\\sigma_{\\epsilon_i}} \\beta_i \\\\\n",
    "\\implies &\\displaystyle\\sum_{i=1}^k z_i \\beta_i = \\frac{\\displaystyle\\sum_{i=1}^k \\frac{\\overline{R}_i - R_f}{\\sigma_{\\epsilon_i}} \\beta_i}{1 + \\sigma_m^2 \\displaystyle\\sum_{j=1}^k \\frac{\\beta_j}{\\sigma_{\\epsilon_j}}}\n",
    "\\end{align}\n",
    "\n",
    "We can now rewrite the original $z_i$ equation \n",
    "\\begin{align}\n",
    "z_i &= \\frac{\\beta_i}{\\sigma_{\\epsilon_i}} \\left(\\frac{\\overline{R}_i - R_f}{\\beta_i} - \\phi_k\\right) + \\mu_i\n",
    "\\end{align}\n",
    "\n",
    "where $\\phi_k = \\sigma_m^2 \\displaystyle\\sum_{i=1}^k z_i \\beta_i$. Regarding $\\mu_i$, the KKT conditions imply that positive $z_i$ values will have zero $\\mu_i$, and negative $z_i$ values will have zero $\\mu_i$ as well."
   ]
  },
  {
   "cell_type": "markdown",
   "metadata": {},
   "source": [
    "Finding the assets that belong to the optimal portfolio is now relatively simple. We just need to calculate and rank each asset according to their excess return to beta ratio, or $\\frac{\\overline{R}_i - R_f}{\\beta_i}$, and weed out those that have ratios less than $\\phi_k$. The positive $z_i$'s can then be normalized by dividing by their sum total, yielding the weights of each asset to be included. \n",
    "\n",
    "It is important to note that the described method assumes that all chosen assets have positive betas. While this may often be true, small tweaks to this process must be made to incorporate assets with negative betas. More details can be found in the paper by Elton et al. [here](https://onlinelibrary.wiley.com/doi/10.1111/j.1540-6261.1976.tb03217.x)."
   ]
  },
  {
   "cell_type": "markdown",
   "metadata": {},
   "source": [
    "## Data ETL"
   ]
  },
  {
   "cell_type": "markdown",
   "metadata": {},
   "source": [
    "To access stock data, we will use the [yfinance library](https://github.com/ranaroussi/yfinance) (one could also scrape prices from a webpage or query them from a database, though formatting may differ). We first download the historical monthly stock prices for the chosen stocks/tickers(slightly modifying the code in the library tutorial). The data comes in the form of a pandas dataframe with multi-level headers, so we also unstack the levels for simpler access."
   ]
  },
  {
   "cell_type": "code",
   "execution_count": 1,
   "metadata": {},
   "outputs": [],
   "source": [
    "import yfinance as yf\n",
    "import numpy as np\n",
    "import scipy.stats as stats\n",
    "import pandas as pd"
   ]
  },
  {
   "cell_type": "code",
   "execution_count": 2,
   "metadata": {},
   "outputs": [
    {
     "name": "stdout",
     "output_type": "stream",
     "text": [
      "[*********************100%***********************]  4 of 4 completed\n"
     ]
    }
   ],
   "source": [
    "ticks = [\"AMD\", \"MSFT\", \"TSLA\"]\n",
    "data = yf.download(tickers = ['^GSPC'] + ticks, start = '2016-06-01', period = '1mo', interval = '1mo', \n",
    "                   group_by = 'ticker', auto_adjust = True, prepost = False, threads = True, proxy = None)"
   ]
  },
  {
   "cell_type": "code",
   "execution_count": 3,
   "metadata": {},
   "outputs": [
    {
     "name": "stdout",
     "output_type": "stream",
     "text": [
      "           Ticker        Close         High          Low         Open  \\\n",
      "Date                                                                    \n",
      "2016-06-01    AMD     5.140000     5.520000     4.070000     4.600000   \n",
      "2016-06-01   MSFT    47.140781    48.780623    44.257246    48.310780   \n",
      "2016-06-01   TSLA    42.456001    48.169998    37.574001    44.296001   \n",
      "2016-06-01  ^GSPC  2098.860107  2120.550049  1991.680054  2093.939941   \n",
      "2016-07-01    AMD     6.860000     7.160000     4.820000     5.090000   \n",
      "...           ...          ...          ...          ...          ...   \n",
      "2021-07-01  ^GSPC  4327.160156  4393.680176  4289.370117  4300.729980   \n",
      "2021-07-19    AMD    86.580002    87.229401    84.239998    84.989998   \n",
      "2021-07-19   MSFT   277.010010   280.369995   275.000000   278.933990   \n",
      "2021-07-19   TSLA   646.219971   647.199890   621.289978   629.890015   \n",
      "2021-07-19  ^GSPC  4258.490234  4296.399902  4233.129883  4296.399902   \n",
      "\n",
      "                  Volume  \n",
      "Date                      \n",
      "2016-06-01  6.256425e+08  \n",
      "2016-06-01  8.236270e+08  \n",
      "2016-06-01  6.083640e+08  \n",
      "2016-06-01  8.685270e+10  \n",
      "2016-07-01  7.005624e+08  \n",
      "...                  ...  \n",
      "2021-07-01  3.427683e+10  \n",
      "2021-07-19  3.924480e+07  \n",
      "2021-07-19  3.293563e+07  \n",
      "2021-07-19  2.129709e+07  \n",
      "2021-07-19  2.840163e+09  \n",
      "\n",
      "[252 rows x 6 columns]\n"
     ]
    }
   ],
   "source": [
    "# unstack\n",
    "stocks_raw = data.stack(level=0).rename_axis(['Date', 'Ticker']).reset_index(level=1)\n",
    "stocks_raw = stocks_raw.groupby('Ticker').filter(lambda x: len(x) > 36)\n",
    "stocks_raw = stocks_raw.sort_values(by=['Date', 'Ticker'])\n",
    "print(stocks_raw)"
   ]
  },
  {
   "cell_type": "markdown",
   "metadata": {},
   "source": [
    "Since we only want one stock price per month, we filter out the last row of each asset if it does not fall on the first day of the month. We also only keep the last 5 years of data to maintain an accurate representation of each company's relevant returns(profitability in the 1990s does not entail profitability in 2020s). Because we require the previous month's price to compute the current month's return, we need to keep an extra month(a total of 61 months)"
   ]
  },
  {
   "cell_type": "code",
   "execution_count": 4,
   "metadata": {},
   "outputs": [],
   "source": [
    "recent = stocks_raw.index[-1] - pd.DateOffset(day = 1)\n",
    "stocks = stocks_raw.loc[stocks_raw.index <= recent].copy()"
   ]
  },
  {
   "cell_type": "markdown",
   "metadata": {},
   "source": [
    "To compute the (percent) return of a specified observation, we subtract the current price with last month's price and divide by last month's price. We can easily vectorize this by subtracting an array of the (open) prices without the last observation from an array of the (open) prices without the first observation. We then divide by the former.  "
   ]
  },
  {
   "cell_type": "markdown",
   "metadata": {},
   "source": [
    "To make calculating parameters easier, we can pivot the dataframe such that each ticker's percent returns form individual columns. Note that we need to mask the data matrix to ignore NaN values. "
   ]
  },
  {
   "cell_type": "code",
   "execution_count": 5,
   "metadata": {},
   "outputs": [
    {
     "name": "stdout",
     "output_type": "stream",
     "text": [
      "Ticker            AMD        MSFT        TSLA        ^GSPC\n",
      "Date                                                      \n",
      "2016-06-01   4.600000   48.310780   44.296001  2093.939941\n",
      "2016-07-01   5.090000   47.103919   41.228001  2099.340088\n",
      "2016-08-01   6.890000   52.143207   47.099998  2173.149902\n",
      "2016-09-01   7.180000   52.848272   41.801998  2171.330078\n",
      "2016-10-01   6.950000   53.219073   42.459999  2164.330078\n",
      "...               ...         ...         ...          ...\n",
      "2021-03-01  85.370003  235.356527  690.109985  3842.510010\n",
      "2021-04-01  80.160004  237.920623  688.369995  3992.780029\n",
      "2021-05-01  81.970001  252.816213  703.799988  4191.979980\n",
      "2021-06-01  81.010002  251.229996  627.799988  4216.520020\n",
      "2021-07-01  94.040001  269.609985  683.919983  4300.729980\n",
      "\n",
      "[62 rows x 4 columns]\n"
     ]
    }
   ],
   "source": [
    "pivoted = stocks.pivot(columns = 'Ticker', values = 'Open').dropna(axis=1, how='all')\n",
    "print(pivoted)\n",
    "spprices = pivoted['^GSPC'].to_numpy()\n",
    "pivoted = pivoted.drop(columns = ['^GSPC'])\n",
    "prices = pivoted.to_numpy()\n",
    "returnarr = prices[1:, :] - prices[:(prices.shape[0] - 1), :]\n",
    "returnarr = returnarr /  prices[:(prices.shape[0] - 1), :]\n",
    "spreturns = (spprices[1:] - spprices[:(len(spprices) - 1)]) / spprices[:(len(spprices) - 1)]"
   ]
  },
  {
   "cell_type": "markdown",
   "metadata": {},
   "source": [
    "## SIM and weight calculations"
   ]
  },
  {
   "cell_type": "markdown",
   "metadata": {},
   "source": [
    "Next we compute the single index model parameters and store them in a dataframe, which includes $\\phi_k$ values. Finally, we determine the assets above the cutoff point and compute the portfolio weights. We will assume the risk-free rate to be zero."
   ]
  },
  {
   "cell_type": "code",
   "execution_count": 6,
   "metadata": {},
   "outputs": [],
   "source": [
    "betas = np.zeros(returnarr.shape[1])\n",
    "alphas = np.zeros(returnarr.shape[1])\n",
    "unsyserr = np.zeros(returnarr.shape[1])\n",
    "for i in np.arange(returnarr.shape[1]):\n",
    "    treturn = returnarr[:,i]\n",
    "    tnonan = treturn[np.logical_not(np.isnan(treturn))]\n",
    "    spmatch = spreturns[(len(spreturns) - len(tnonan)):]\n",
    "    try:\n",
    "        betas[i], alphas[i], r, p, se = stats.linregress(spmatch, tnonan)\n",
    "    except: \n",
    "        print(returnarr[:,i])\n",
    "    unsyserr[i] = np.sum((tnonan - alphas[i] - betas[i]*spmatch)**2) / (len(spmatch) - 2)"
   ]
  },
  {
   "cell_type": "code",
   "execution_count": 7,
   "metadata": {},
   "outputs": [],
   "source": [
    "returnmean = returnarr.mean(axis = 0)\n",
    "simdf = pd.DataFrame(data = {'alpha': alphas, 'beta': betas, 'eps': unsyserr, 'rmean': returnmean}, index = pivoted.columns.values)\n",
    "simdf['excess'] = simdf['rmean'] / simdf['beta']\n",
    "simdf = simdf.sort_values(by=['excess'], ascending = False)\n",
    "simdf = simdf.loc[(simdf['excess'] > 0) & (simdf['beta'] > 0)]"
   ]
  },
  {
   "cell_type": "code",
   "execution_count": 8,
   "metadata": {},
   "outputs": [
    {
     "name": "stdout",
     "output_type": "stream",
     "text": [
      "         alpha      beta       eps     rmean    excess\n",
      "MSFT  0.019324  0.808193  0.001110  0.029830  0.036909\n",
      "AMD   0.038237  1.940392  0.019174  0.063460  0.032705\n",
      "TSLA  0.035041  2.100616  0.029258  0.062347  0.029680\n"
     ]
    }
   ],
   "source": [
    "print(simdf)"
   ]
  },
  {
   "cell_type": "code",
   "execution_count": 9,
   "metadata": {},
   "outputs": [],
   "source": [
    "num = simdf['rmean'] * simdf['beta'] / simdf['eps']\n",
    "den = simdf['beta']**2 / simdf['eps']\n",
    "simdf['phi'] = spreturns.var() * num.cumsum() / (1 + spreturns.var() * den.cumsum())"
   ]
  },
  {
   "cell_type": "code",
   "execution_count": 10,
   "metadata": {},
   "outputs": [
    {
     "data": {
      "text/plain": [
       "MSFT    0.889661\n",
       "AMD     0.076655\n",
       "TSLA    0.033683\n",
       "dtype: float64"
      ]
     },
     "execution_count": 10,
     "metadata": {},
     "output_type": "execute_result"
    }
   ],
   "source": [
    "cutoff = simdf.loc[simdf['phi'] < simdf['excess']]\n",
    "z = (cutoff['beta'] / cutoff['eps']) * (cutoff['excess'] - cutoff['phi'])\n",
    "weights = z.sort_values(ascending = False) / z.sum()\n",
    "weights.head()"
   ]
  },
  {
   "cell_type": "markdown",
   "metadata": {
    "scrolled": true
   },
   "source": [
    "## Portfolio Details"
   ]
  },
  {
   "cell_type": "markdown",
   "metadata": {},
   "source": [
    "We can plot the price data of assets included in the portfolio for a bit of insight on why they were chosen."
   ]
  },
  {
   "cell_type": "code",
   "execution_count": 11,
   "metadata": {},
   "outputs": [
    {
     "data": {
      "image/png": "[encoded data removed]",
      "text/plain": [
       "<Figure size 432x288 with 1 Axes>"
      ]
     },
     "metadata": {
      "needs_background": "light"
     },
     "output_type": "display_data"
    }
   ],
   "source": [
    "import matplotlib.pyplot as plt\n",
    "plt.plot(stocks.loc[stocks['Ticker'] == weights.index[0], 'Close'])\n",
    "plt.title(\"Closing prices of \" + weights.index[0])\n",
    "plt.show()"
   ]
  },
  {
   "cell_type": "markdown",
   "metadata": {},
   "source": [
    "We can also compare the performance of the portfolio to the market (in this case the S&P500)."
   ]
  },
  {
   "cell_type": "code",
   "execution_count": 12,
   "metadata": {},
   "outputs": [
    {
     "data": {
      "text/plain": [
       "0.11960394505491298"
      ]
     },
     "execution_count": 12,
     "metadata": {},
     "output_type": "execute_result"
    }
   ],
   "source": [
    "date1 = stocks.loc[(stocks.index == '2021-05-01') & (stocks['Ticker'] != '^GSPC')].set_index('Ticker', drop=True)\n",
    "date1 = date1.loc[weights.index.values, 'Close']\n",
    "date2 = stocks.loc[(stocks.index == '2021-07-01') & (stocks['Ticker'] != '^GSPC')].set_index('Ticker', drop=True)\n",
    "date2 = date2.loc[weights.index.values, 'Close']\n",
    "percchange = (date2 - date1) / date1\n",
    "sum(percchange * weights)"
   ]
  },
  {
   "cell_type": "code",
   "execution_count": 13,
   "metadata": {},
   "outputs": [
    {
     "data": {
      "text/plain": [
       "array([0.02926905])"
      ]
     },
     "execution_count": 13,
     "metadata": {},
     "output_type": "execute_result"
    }
   ],
   "source": [
    "spdate1 = stocks.loc[(stocks.index == '2021-05-01') & (stocks['Ticker'] == '^GSPC')]['Close'].values\n",
    "spdate2 = stocks.loc[(stocks.index == '2021-07-01') & (stocks['Ticker'] == '^GSPC')]['Close'].values\n",
    "(spdate2 - spdate1) / spdate1"
   ]
  },
  {
   "cell_type": "markdown",
   "metadata": {},
   "source": [
    "We can also translate the weights of each asset to the approximate number of shares by pulling the opening prices of that day."
   ]
  },
  {
   "cell_type": "code",
   "execution_count": 14,
   "metadata": {},
   "outputs": [
    {
     "name": "stdout",
     "output_type": "stream",
     "text": [
      "[*********************100%***********************]  3 of 3 completed\n"
     ]
    }
   ],
   "source": [
    "from datetime import datetime\n",
    "today_date = datetime.today().strftime('%Y-%m-%d')\n",
    "latest_raw = yf.download(tickers = weights.index.values.tolist(), start = today_date, period = '1d', interval = '1d', group_by = 'ticker', auto_adjust = True, prepost = False, threads = True, proxy = None)\n",
    "latest = latest_raw.stack(level=0).rename_axis(['Date', 'Ticker']).reset_index(level=1)"
   ]
  },
  {
   "cell_type": "code",
   "execution_count": 15,
   "metadata": {},
   "outputs": [
    {
     "data": {
      "text/plain": [
       "MSFT    32.116574\n",
       "AMD      8.853694\n",
       "TSLA     0.521238\n",
       "dtype: float64"
      ]
     },
     "execution_count": 15,
     "metadata": {},
     "output_type": "execute_result"
    }
   ],
   "source": [
    "latest_prices = latest.set_index('Ticker', drop=True).loc[weights.index.values, 'Close']\n",
    "portvalue = 10000\n",
    "numstocks = portvalue*weights/latest_prices\n",
    "numstocks"
   ]
  }
 ],
 "metadata": {
  "kernelspec": {
   "display_name": "Python 3",
   "language": "python",
   "name": "python3"
  },
  "language_info": {
   "codemirror_mode": {
    "name": "ipython",
    "version": 3
   },
   "file_extension": ".py",
   "mimetype": "text/x-python",
   "name": "python",
   "nbconvert_exporter": "python",
   "pygments_lexer": "ipython3",
   "version": "3.8.5"
  }
 },
 "nbformat": 4,
 "nbformat_minor": 4
}

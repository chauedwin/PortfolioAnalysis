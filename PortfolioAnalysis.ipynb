{
 "cells": [
  {
   "cell_type": "markdown",
   "metadata": {},
   "source": [
    "# Portfolio Analysis with Statistics"
   ]
  },
  {
   "cell_type": "markdown",
   "metadata": {},
   "source": [
    "To access stock data, we will use the [yfinance library](https://github.com/ranaroussi/yfinance). We first download the historical monthly stock prices for the chosen stocks/tickers(slightly modifying the code in the library tutorial). The data comes in the form of a pandas dataframe with multi-level headers, so we also unstack the levels for simpler access."
   ]
  },
  {
   "cell_type": "code",
   "execution_count": 23,
   "metadata": {},
   "outputs": [
    {
     "name": "stdout",
     "output_type": "stream",
     "text": [
      "[*********************100%***********************]  2 of 2 completed\n"
     ]
    }
   ],
   "source": [
    "import yfinance as yf\n",
    "data = yf.download(tickers = \"AAPL MSFT\", interval = \"1mo\", group_by = 'ticker', auto_adjust = True, threads = True)"
   ]
  },
  {
   "cell_type": "code",
   "execution_count": 25,
   "metadata": {},
   "outputs": [
    {
     "data": {
      "text/html": [
       "<div>\n",
       "<style scoped>\n",
       "    .dataframe tbody tr th:only-of-type {\n",
       "        vertical-align: middle;\n",
       "    }\n",
       "\n",
       "    .dataframe tbody tr th {\n",
       "        vertical-align: top;\n",
       "    }\n",
       "\n",
       "    .dataframe thead th {\n",
       "        text-align: right;\n",
       "    }\n",
       "</style>\n",
       "<table border=\"1\" class=\"dataframe\">\n",
       "  <thead>\n",
       "    <tr style=\"text-align: right;\">\n",
       "      <th></th>\n",
       "      <th>Ticker</th>\n",
       "      <th>Close</th>\n",
       "      <th>High</th>\n",
       "      <th>Low</th>\n",
       "      <th>Open</th>\n",
       "      <th>Volume</th>\n",
       "    </tr>\n",
       "    <tr>\n",
       "      <th>Date</th>\n",
       "      <th></th>\n",
       "      <th></th>\n",
       "      <th></th>\n",
       "      <th></th>\n",
       "      <th></th>\n",
       "      <th></th>\n",
       "    </tr>\n",
       "  </thead>\n",
       "  <tbody>\n",
       "    <tr>\n",
       "      <th>2021-05-01</th>\n",
       "      <td>MSFT</td>\n",
       "      <td>249.104782</td>\n",
       "      <td>253.764037</td>\n",
       "      <td>237.521544</td>\n",
       "      <td>252.816213</td>\n",
       "      <td>4.950849e+08</td>\n",
       "    </tr>\n",
       "    <tr>\n",
       "      <th>2021-06-01</th>\n",
       "      <td>AAPL</td>\n",
       "      <td>133.979996</td>\n",
       "      <td>134.080002</td>\n",
       "      <td>123.129997</td>\n",
       "      <td>125.080002</td>\n",
       "      <td>1.216682e+09</td>\n",
       "    </tr>\n",
       "    <tr>\n",
       "      <th>2021-06-01</th>\n",
       "      <td>MSFT</td>\n",
       "      <td>265.510010</td>\n",
       "      <td>265.790009</td>\n",
       "      <td>243.000000</td>\n",
       "      <td>251.229996</td>\n",
       "      <td>3.806892e+08</td>\n",
       "    </tr>\n",
       "    <tr>\n",
       "      <th>2021-06-23</th>\n",
       "      <td>AAPL</td>\n",
       "      <td>133.699997</td>\n",
       "      <td>134.320007</td>\n",
       "      <td>133.229996</td>\n",
       "      <td>133.770004</td>\n",
       "      <td>6.021420e+07</td>\n",
       "    </tr>\n",
       "    <tr>\n",
       "      <th>2021-06-23</th>\n",
       "      <td>MSFT</td>\n",
       "      <td>265.274994</td>\n",
       "      <td>266.829987</td>\n",
       "      <td>264.429993</td>\n",
       "      <td>265.989990</td>\n",
       "      <td>1.951868e+07</td>\n",
       "    </tr>\n",
       "  </tbody>\n",
       "</table>\n",
       "</div>"
      ],
      "text/plain": [
       "           Ticker       Close        High         Low        Open  \\\n",
       "Date                                                                \n",
       "2021-05-01   MSFT  249.104782  253.764037  237.521544  252.816213   \n",
       "2021-06-01   AAPL  133.979996  134.080002  123.129997  125.080002   \n",
       "2021-06-01   MSFT  265.510010  265.790009  243.000000  251.229996   \n",
       "2021-06-23   AAPL  133.699997  134.320007  133.229996  133.770004   \n",
       "2021-06-23   MSFT  265.274994  266.829987  264.429993  265.989990   \n",
       "\n",
       "                  Volume  \n",
       "Date                      \n",
       "2021-05-01  4.950849e+08  \n",
       "2021-06-01  1.216682e+09  \n",
       "2021-06-01  3.806892e+08  \n",
       "2021-06-23  6.021420e+07  \n",
       "2021-06-23  1.951868e+07  "
      ]
     },
     "execution_count": 25,
     "metadata": {},
     "output_type": "execute_result"
    }
   ],
   "source": [
    "# unstack\n",
    "stocks = data.stack(level=0).rename_axis(['Date', 'Ticker']).reset_index(level=1)\n",
    "stocks.tail()"
   ]
  },
  {
   "cell_type": "code",
   "execution_count": null,
   "metadata": {},
   "outputs": [],
   "source": []
  }
 ],
 "metadata": {
  "kernelspec": {
   "display_name": "Python 3",
   "language": "python",
   "name": "python3"
  },
  "language_info": {
   "codemirror_mode": {
    "name": "ipython",
    "version": 3
   },
   "file_extension": ".py",
   "mimetype": "text/x-python",
   "name": "python",
   "nbconvert_exporter": "python",
   "pygments_lexer": "ipython3",
   "version": "3.7.6"
  }
 },
 "nbformat": 4,
 "nbformat_minor": 4
}

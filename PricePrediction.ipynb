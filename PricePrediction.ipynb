{
 "cells": [
  {
   "cell_type": "markdown",
   "metadata": {},
   "source": [
    "# Time Series Analysis: ARIMA"
   ]
  },
  {
   "cell_type": "markdown",
   "metadata": {},
   "source": [
    "stationarity: if lags don't depend on time \n",
    "check stationarity using hypothesis tests, such as ADF test or KPSS test\n",
    "many traditional models assume stationarity - which can be achieved through square root or log transforms in some cases\n",
    "\n",
    "also need to check normality of input vars and output vars\n",
    "\n",
    "autocorrelation: how data points in different points in time are linearly related to each other as a function of time difference\n",
    "ACF function: computes correlation between a dataset and the same dataset lagged k = 1, 2, ... , m times\n",
    "PACF: eliminates some of the redundancies in ACF, effectively providing a more informative succinct summary \n",
    "autocorr that falls within a critical region is effectively zero "
   ]
  }
 ],
 "metadata": {
  "kernelspec": {
   "display_name": "Python 3",
   "language": "python",
   "name": "python3"
  },
  "language_info": {
   "codemirror_mode": {
    "name": "ipython",
    "version": 3
   },
   "file_extension": ".py",
   "mimetype": "text/x-python",
   "name": "python",
   "nbconvert_exporter": "python",
   "pygments_lexer": "ipython3",
   "version": "3.8.5"
  }
 },
 "nbformat": 4,
 "nbformat_minor": 4
}

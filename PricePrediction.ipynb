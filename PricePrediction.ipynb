{
 "cells": [
  {
   "cell_type": "markdown",
   "metadata": {},
   "source": [
    "# Time Series Analysis: ARIMA"
   ]
  },
  {
   "cell_type": "markdown",
   "metadata": {},
   "source": [
    "stationarity: if lags don't depend on time, which can be verified by stable/near-constant mean and variance\n",
    "check stationarity using hypothesis tests, such as ADF test or KPSS test\n",
    "many traditional models assume stationarity - which can be achieved through square root or log transforms in some cases\n",
    "\n",
    "also need to check normality of input vars and output vars\n",
    "\n",
    "autocorrelation: how data points in different points in time are linearly related to each other as a function of time difference\n",
    "ACF function: computes correlation between a dataset and the same dataset lagged k = 1, 2, ... , m times\n",
    "PACF: eliminates some of the redundancies in ACF, effectively providing a more informative succinct summary \n",
    "autocorr that falls within a critical region is effectively zero \n",
    "partial autocorrelation is the correlation of two residuals obtained after regressing X_k+1 and X_1 on the intermediate observations X_2, ..., X_k\n",
    "\n",
    "predicting too far into the future results in the training data becoming irrelevant aside from the mean value, the predictions will tend toward the mean of the process and the variance will tend toward 0\n",
    "\n",
    "For AR model, use PACF to determine how many lags to include(the point at which no more lags are above the sig threshold is the chosen lag). The PACF at lag terms after the model order are theoretically zero, so there should be a sharp visible cutoff \n",
    "\n",
    "For MA model, use ACF since lag terms after the model order are theoretically zero.\n",
    "\n",
    "AR and MA use opposing methods because they are \"invertible\" if the coefficients are within the unit circle, that is an AR or MA process with finite terms can be reexpressed as an infinite process of the other model. \n",
    "https://stats.stackexchange.com/questions/112932/interpretation-of-the-partial-autocorrelation-function-for-a-pure-ma-process?rq=1"
   ]
  },
  {
   "cell_type": "code",
   "execution_count": 16,
   "metadata": {},
   "outputs": [],
   "source": [
    "import yfinance as yf\n",
    "import numpy as np\n",
    "import scipy.stats as stats\n",
    "import pandas as pd\n",
    "import matplotlib.pyplot as plt\n",
    "import statsmodels.api as sm"
   ]
  },
  {
   "cell_type": "code",
   "execution_count": 2,
   "metadata": {},
   "outputs": [
    {
     "name": "stdout",
     "output_type": "stream",
     "text": [
      "[*********************100%***********************]  1 of 1 completed\n"
     ]
    }
   ],
   "source": [
    "data = yf.download(tickers = ['^GSPC'], start = '2016-08-01', period = '1mo', interval = '1mo', \n",
    "                   group_by = 'ticker', auto_adjust = True, prepost = False, threads = True, proxy = None)"
   ]
  },
  {
   "cell_type": "code",
   "execution_count": 10,
   "metadata": {},
   "outputs": [
    {
     "data": {
      "image/png": "[encoded data removed]",
      "text/plain": [
       "<Figure size 432x288 with 1 Axes>"
      ]
     },
     "metadata": {
      "needs_background": "light"
     },
     "output_type": "display_data"
    }
   ],
   "source": [
    "plt.plot(data['Close'])\n",
    "plt.show()"
   ]
  },
  {
   "cell_type": "code",
   "execution_count": 38,
   "metadata": {},
   "outputs": [
    {
     "name": "stdout",
     "output_type": "stream",
     "text": [
      "{'Test Statistic': 0.6402754019625957, 'p-value': 0.9885674034947396, '#Lags Used': 0, 'Number of Observations Used': 61}\n"
     ]
    }
   ],
   "source": [
    "adf_test = dict(zip(['Test Statistic','p-value','#Lags Used','Number of Observations Used'], \n",
    "                    list(sm.tsa.stattools.adfuller(data['Close'], autolag='AIC')[:4])))\n",
    "print(adf_test)"
   ]
  },
  {
   "cell_type": "markdown",
   "metadata": {},
   "source": [
    "p-value is above significance level of 0.05, we fail to reject the null hypothesis that the series has a unit root, i.e. that it is nonstationary. "
   ]
  },
  {
   "cell_type": "code",
   "execution_count": 40,
   "metadata": {},
   "outputs": [
    {
     "name": "stdout",
     "output_type": "stream",
     "text": [
      "{'Test Statistic': 1.1587181940812072, 'p-value': 0.01, 'Lags Used': 4}\n"
     ]
    },
    {
     "name": "stderr",
     "output_type": "stream",
     "text": [
      "c:\\users\\user\\miniconda3\\lib\\site-packages\\statsmodels\\tsa\\stattools.py:1881: InterpolationWarning: The test statistic is outside of the range of p-values available in the\n",
      "look-up table. The actual p-value is smaller than the p-value returned.\n",
      "\n",
      "  warnings.warn(\n"
     ]
    }
   ],
   "source": [
    "kpss_test = dict(zip(['Test Statistic','p-value','Lags Used'],\n",
    "                     list(sm.tsa.stattools.kpss(data['Close'], nlags='auto')[:3])))\n",
    "print(kpss_test)"
   ]
  },
  {
   "cell_type": "markdown",
   "metadata": {},
   "source": [
    "KPSS test has a significant p-value, so we reject the null hypothesis that the series is stationary"
   ]
  }
 ],
 "metadata": {
  "kernelspec": {
   "display_name": "Python 3",
   "language": "python",
   "name": "python3"
  },
  "language_info": {
   "codemirror_mode": {
    "name": "ipython",
    "version": 3
   },
   "file_extension": ".py",
   "mimetype": "text/x-python",
   "name": "python",
   "nbconvert_exporter": "python",
   "pygments_lexer": "ipython3",
   "version": "3.8.5"
  }
 },
 "nbformat": 4,
 "nbformat_minor": 4
}
